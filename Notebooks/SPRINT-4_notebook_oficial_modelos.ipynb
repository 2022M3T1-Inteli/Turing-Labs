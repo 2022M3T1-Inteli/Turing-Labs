{
  "nbformat": 4,
  "nbformat_minor": 0,
  "metadata": {
    "colab": {
      "provenance": [],
      "collapsed_sections": [
        "NjU3dXTZ0d4e",
        "dukLTXXRnKmL"
      ]
    },
    "kernelspec": {
      "name": "python3",
      "display_name": "Python 3"
    },
    "language_info": {
      "name": "python"
    }
  },
  "cells": [
    {
      "cell_type": "markdown",
      "source": [
        "# Carregamento e leitura da tabela"
      ],
      "metadata": {
        "id": "2etRTQpjbjoQ"
      }
    },
    {
      "cell_type": "code",
      "source": [
        "from google.colab import drive\n",
        "drive.mount('/content/drive')"
      ],
      "metadata": {
        "colab": {
          "base_uri": "https://localhost:8080/"
        },
        "id": "sYc9DcyJDwwP",
        "outputId": "66676dd1-f2ab-4f05-e5d4-ea122a76b71f"
      },
      "execution_count": null,
      "outputs": [
        {
          "output_type": "stream",
          "name": "stdout",
          "text": [
            "Mounted at /content/drive\n"
          ]
        }
      ]
    },
    {
      "cell_type": "markdown",
      "source": [
        "   Seção que irá ocorrer o download da tabela, visto que o contéudo está no drive. Além de haver a leitura de um arquivo csv e haver o armazenamento."
      ],
      "metadata": {
        "id": "8EOmEaeGcz0y"
      }
    },
    {
      "cell_type": "code",
      "execution_count": null,
      "metadata": {
        "id": "sfXRWzFgmU7G"
      },
      "outputs": [],
      "source": [
        "# Baixando\n",
        "!pip install -U -q PyDrive"
      ]
    },
    {
      "cell_type": "code",
      "source": [
        "# Importando bibliotecas\n",
        "import pandas as pd\n",
        "import numpy as np\n",
        "from pydrive.auth import GoogleAuth\n",
        "from pydrive.drive import GoogleDrive\n",
        "from google.colab import auth\n",
        "from oauth2client.client import GoogleCredentials\n",
        "from google_drive_downloader import GoogleDriveDownloader as gdd\n",
        "import warnings\n",
        "warnings.filterwarnings('ignore')\n",
        "\n",
        "import numpy as np\n",
        "import pandas as pd\n",
        "import matplotlib.pyplot as plt\n",
        "import seaborn as sns\n",
        "from sklearn.datasets import make_classification\n",
        "from sklearn.ensemble import RandomForestClassifier\n",
        "from sklearn.model_selection import train_test_split\n",
        "from sklearn.metrics import roc_curve"
      ],
      "metadata": {
        "id": "RIs1rhry4iMC"
      },
      "execution_count": null,
      "outputs": []
    },
    {
      "cell_type": "code",
      "source": [
        "# Autenticando para entrar no drive\n",
        "# auth.authenticate_user()\n",
        "# gauth = GoogleAuth()\n",
        "# gauth.credentials = GoogleCredentials.get_application_default()\n",
        "# drive = GoogleDrive(gauth)"
      ],
      "metadata": {
        "id": "Y_ta8Noc6-71"
      },
      "execution_count": null,
      "outputs": []
    },
    {
      "cell_type": "code",
      "source": [
        "# # Baixando o arquivo de metadados de safra artificial 1\n",
        "# downloaded = drive.CreateFile({'id': '1_H-xSrnVmZ4Lx7td_K-f2yyCILwqbTfL'}) \n",
        "# downloaded.GetContentFile('SafraArtificial1.csv')\n",
        "# print(downloaded['title'], downloaded['mimeType'])\n",
        "\n",
        "# # Baixando o arquivo de metadados de safra artificial 2\n",
        "# downloaded = drive.CreateFile({'id': '1T2_WkGYVeYT-2ekRX157GCxfwnBpMrLX'})\n",
        "# downloaded.GetContentFile('SafraArtificial2.csv')\n",
        "# print(downloaded['title'], downloaded['mimeType'])"
      ],
      "metadata": {
        "id": "ovNTt6pv7MOi"
      },
      "execution_count": null,
      "outputs": []
    },
    {
      "cell_type": "code",
      "source": [
        "# Lendo os dados do arquivo de safra artificial 1 30/70\n",
        "data_safra_artificial_1 = pd.read_csv('/content/drive/Shareddrives/Turing_Labs/csvs/novos_testes/SafraArtificial1-3070.csv')"
      ],
      "metadata": {
        "id": "EeGC8hDZ4oPr"
      },
      "execution_count": null,
      "outputs": []
    },
    {
      "cell_type": "code",
      "source": [
        "# Lendo os dados do arquivo de safra artificial 2 40/60\n",
        "data_safra_artificial_2 = pd.read_csv('/content/drive/Shareddrives/Turing_Labs/csvs/novos_testes/SafraArtificial2-4060.csv')"
      ],
      "metadata": {
        "id": "1hpUTfNxRFJi"
      },
      "execution_count": null,
      "outputs": []
    },
    {
      "cell_type": "code",
      "source": [
        "# Lendo os dados do arquivo de safra artificial 3 60/40\n",
        "data_safra_artificial_3 = pd.read_csv('/content/drive/Shareddrives/Turing_Labs/csvs/novos_testes/SafraArtificial3-6040.csv')"
      ],
      "metadata": {
        "id": "nkKNDYI-UkP6"
      },
      "execution_count": null,
      "outputs": []
    },
    {
      "cell_type": "code",
      "source": [
        "# Lendo os dados do arquivo de safra artificial 4 60/40\n",
        "data_safra_artificial_4 = pd.read_csv('/content/drive/Shareddrives/Turing_Labs/csvs/novos_testes/SafraArtificial4-5050.csv')"
      ],
      "metadata": {
        "id": "B8KPhru8WYuE"
      },
      "execution_count": null,
      "outputs": []
    },
    {
      "cell_type": "markdown",
      "source": [
        "# Modelos - Classificação\n",
        "\n",
        "\n"
      ],
      "metadata": {
        "id": "at8FLrHooKEr"
      }
    },
    {
      "cell_type": "markdown",
      "source": [
        "##Algoritmos usados:\n",
        "\n",
        "###**Gradient Boost**\n",
        "\n",
        "  Algortimo de classficação, é escalável, flexível e contém um ótimo nível de eficiência. Ademais, proporciona árvores boosting paralelas.\n",
        "\n",
        "###**Árvore de decisão**\n",
        "\n",
        "Algoritmo de classificação, separa grupos de dados conforme acontece as desições na árvore durante os seus nós, e dependendendo da quantidade níveis acontece a quantidade de decisões.\n",
        "\n",
        "###**Random Forest**\n",
        "\n",
        "Algoritmo de classificação, que **seleciona uma amostra de dados do conjunto de treinamento** e  **n variáveis aleatórias** em que estas serão submetidas a cálculos para a criação de um novo nó, e nesse nó o processo dito se repete.\n",
        "\n",
        "##Pergunta a responder:\n",
        "\n",
        "\n",
        "Quem não possui atritos com o banco?\n",
        "\n",
        "\n",
        "##Métricas usadas:\n",
        "\n",
        "Precisão, Revocação, F1-Score e Acurácia."
      ],
      "metadata": {
        "id": "NjU3dXTZ0d4e"
      }
    },
    {
      "cell_type": "markdown",
      "source": [
        "## Modelo com proporção de 30/70 para treinamento"
      ],
      "metadata": {
        "id": "SaLmu6fK1X-C"
      }
    },
    {
      "cell_type": "code",
      "source": [
        "from sklearn.model_selection import train_test_split"
      ],
      "metadata": {
        "id": "YMMBzQ4w-0Tl"
      },
      "execution_count": null,
      "outputs": []
    },
    {
      "cell_type": "code",
      "source": [
        "# Dropa a coluna de target\n",
        "x = data_safra_artificial_1.drop(['ind_atrito'], axis = 1)\n",
        "y = data_safra_artificial_1['ind_atrito']\n",
        "# Separa o conjunto teste do de treinamento e o de treinamento recebe 70% dos dados\n",
        "x_train3070, x_test3070, y_train3070, y_test3070 = train_test_split(x, y,\n",
        "                                                    test_size = 0.3,\n",
        "                                                    random_state = 42)"
      ],
      "metadata": {
        "id": "CcIJd8tQ_B_G"
      },
      "execution_count": null,
      "outputs": []
    },
    {
      "cell_type": "markdown",
      "source": [
        "### Gradient Boost"
      ],
      "metadata": {
        "id": "0TgcyXov1jsn"
      }
    },
    {
      "cell_type": "code",
      "source": [
        "from sklearn.ensemble import GradientBoostingClassifier"
      ],
      "metadata": {
        "id": "hvemMMzZ93Kl"
      },
      "execution_count": null,
      "outputs": []
    },
    {
      "cell_type": "code",
      "source": [
        "# Variável que será utilizada para pegar apenas partes da amostra aos poucos para o treinamento do modelo\n",
        "lr_list = [0.05, 0.075, 0.1, 0.25, 0.5, 0.75, 1]\n",
        "\n",
        "# Loop que passa por todas as proporções do conjunto de treinamento para o treinamento do modelo\n",
        "for learning_rate in lr_list:\n",
        "    gb_clf = GradientBoostingClassifier(n_estimators=20, learning_rate=learning_rate, max_features=2, max_depth=2, random_state=0)\n",
        "    gb_clf.fit(x_train3070, y_train3070)\n",
        "\n",
        "    print(\"Learning rate: \", learning_rate)\n",
        "    print(\"Accuracy score (training): {0:.3f}\".format(gb_clf.score(x_train3070, y_train3070)))\n",
        "    print(\"Accuracy score (validation): {0:.3f}\".format(gb_clf.score(x_test3070, y_test3070)))"
      ],
      "metadata": {
        "colab": {
          "base_uri": "https://localhost:8080/"
        },
        "id": "GiLZ57vD99mv",
        "outputId": "a4232ee6-2d57-4208-c96a-ad2988cd4ddf"
      },
      "execution_count": null,
      "outputs": [
        {
          "output_type": "stream",
          "name": "stdout",
          "text": [
            "Learning rate:  0.05\n",
            "Accuracy score (training): 0.760\n",
            "Accuracy score (validation): 0.756\n",
            "Learning rate:  0.075\n",
            "Accuracy score (training): 0.780\n",
            "Accuracy score (validation): 0.772\n",
            "Learning rate:  0.1\n",
            "Accuracy score (training): 0.785\n",
            "Accuracy score (validation): 0.781\n",
            "Learning rate:  0.25\n",
            "Accuracy score (training): 0.787\n",
            "Accuracy score (validation): 0.785\n",
            "Learning rate:  0.5\n",
            "Accuracy score (training): 0.789\n",
            "Accuracy score (validation): 0.785\n",
            "Learning rate:  0.75\n",
            "Accuracy score (training): 0.791\n",
            "Accuracy score (validation): 0.785\n",
            "Learning rate:  1\n",
            "Accuracy score (training): 0.794\n",
            "Accuracy score (validation): 0.780\n"
          ]
        }
      ]
    },
    {
      "cell_type": "code",
      "source": [
        "# Teste do modelo\n",
        "y_pred3070gb = gb_clf.predict(x_test3070)"
      ],
      "metadata": {
        "id": "ihQrtxNmT1me"
      },
      "execution_count": null,
      "outputs": []
    },
    {
      "cell_type": "code",
      "source": [
        "# Avaliação\n",
        "import matplotlib.pyplot as plt\n",
        "from sklearn.metrics import plot_confusion_matrix\n",
        "from sklearn.metrics import classification_report"
      ],
      "metadata": {
        "id": "LAaQcQc3T2n5"
      },
      "execution_count": null,
      "outputs": []
    },
    {
      "cell_type": "code",
      "source": [
        "# Aplicação da matriz de confusão\n",
        "_ = plot_confusion_matrix(gb_clf, x_test3070, y_test3070, cmap='Blues')"
      ],
      "metadata": {
        "id": "Qn_abO6UT74V",
        "colab": {
          "base_uri": "https://localhost:8080/"
        },
        "outputId": "550297c2-66ed-429a-960d-e46e211df7a7"
      },
      "execution_count": null,
      "outputs": [
        {
          "output_type": "display_data",
          "data": {
            "text/plain": [
              "<Figure size 432x288 with 2 Axes>"
            ],
            "image/png": "[encoded data removed]"
          },
          "metadata": {
            "needs_background": "light"
          }
        }
      ]
    },
    {
      "cell_type": "code",
      "source": [
        "#Aplicação de todas as métricas\n",
        "print(classification_report(y_test3070, y_pred3070gb))"
      ],
      "metadata": {
        "colab": {
          "base_uri": "https://localhost:8080/"
        },
        "id": "5cGaCFx1cy9L",
        "outputId": "6473cfca-a7d6-4227-f482-66050ae5d166"
      },
      "execution_count": null,
      "outputs": [
        {
          "output_type": "stream",
          "name": "stdout",
          "text": [
            "              precision    recall  f1-score   support\n",
            "\n",
            "         0.0       0.76      0.98      0.86      1806\n",
            "         1.0       0.91      0.34      0.50       840\n",
            "\n",
            "    accuracy                           0.78      2646\n",
            "   macro avg       0.83      0.66      0.68      2646\n",
            "weighted avg       0.81      0.78      0.74      2646\n",
            "\n"
          ]
        }
      ]
    },
    {
      "cell_type": "markdown",
      "source": [
        "### Árvore de decisão"
      ],
      "metadata": {
        "id": "fpWCwvXb1oDm"
      }
    },
    {
      "cell_type": "code",
      "source": [
        "from sklearn import tree\n",
        "from sklearn.tree import DecisionTreeClassifier"
      ],
      "metadata": {
        "id": "vW7mEbo4-E6f"
      },
      "execution_count": null,
      "outputs": []
    },
    {
      "cell_type": "code",
      "source": [
        "# treinamento do modelo pelo algoritmo da árvore de decisão\n",
        "clf = tree.DecisionTreeClassifier()\n",
        "clf = clf.fit(x_train3070, y_train3070)"
      ],
      "metadata": {
        "id": "17pUsj9u-Kbd"
      },
      "execution_count": null,
      "outputs": []
    },
    {
      "cell_type": "code",
      "source": [
        "# teste com o modelo\n",
        "y_pred3070dt = clf.predict(x_test3070)"
      ],
      "metadata": {
        "id": "MTs_jHpJULPX"
      },
      "execution_count": null,
      "outputs": []
    },
    {
      "cell_type": "code",
      "source": [
        "# Avaliação \n",
        "from sklearn.metrics import accuracy_score\n",
        "import matplotlib.pyplot as plt\n",
        "from sklearn.metrics import plot_confusion_matrix\n",
        "from sklearn.metrics import classification_report"
      ],
      "metadata": {
        "id": "Q5VuyuYxUMMy"
      },
      "execution_count": null,
      "outputs": []
    },
    {
      "cell_type": "code",
      "source": [
        "# Aplicação da matriz de confusão\n",
        "_ = plot_confusion_matrix(clf, x_test3070, y_test3070, cmap='Blues')"
      ],
      "metadata": {
        "id": "4vvPV9vVUPY4",
        "colab": {
          "base_uri": "https://localhost:8080/"
        },
        "outputId": "4d473e96-4e0f-429b-cdf7-9786a286575a"
      },
      "execution_count": null,
      "outputs": [
        {
          "output_type": "display_data",
          "data": {
            "text/plain": [
              "<Figure size 432x288 with 2 Axes>"
            ],
            "image/png": "[encoded data removed]"
          },
          "metadata": {
            "needs_background": "light"
          }
        }
      ]
    },
    {
      "cell_type": "code",
      "source": [
        "# Aplicação de todas as métricas\n",
        "print(classification_report(y_test3070, y_pred3070dt))"
      ],
      "metadata": {
        "colab": {
          "base_uri": "https://localhost:8080/"
        },
        "id": "qT74RI8Jju3Y",
        "outputId": "d4f132f2-5122-4cb2-8313-757ff20ccd33"
      },
      "execution_count": null,
      "outputs": [
        {
          "output_type": "stream",
          "name": "stdout",
          "text": [
            "              precision    recall  f1-score   support\n",
            "\n",
            "         0.0       0.78      0.77      0.78      1806\n",
            "         1.0       0.52      0.53      0.53       840\n",
            "\n",
            "    accuracy                           0.70      2646\n",
            "   macro avg       0.65      0.65      0.65      2646\n",
            "weighted avg       0.70      0.70      0.70      2646\n",
            "\n"
          ]
        }
      ]
    },
    {
      "cell_type": "markdown",
      "source": [
        "### Random Forest"
      ],
      "metadata": {
        "id": "AdrnzcoQ71Vn"
      }
    },
    {
      "cell_type": "code",
      "source": [
        "from sklearn.ensemble import RandomForestClassifier"
      ],
      "metadata": {
        "id": "mQk21X5o-O8l"
      },
      "execution_count": null,
      "outputs": []
    },
    {
      "cell_type": "code",
      "source": [
        "# treinamento do modelo pelo algoritmo random forest\n",
        "rfc = RandomForestClassifier()\n",
        "rfc.fit(x_train3070, y_train3070)"
      ],
      "metadata": {
        "id": "zrwdjB70-Ya0",
        "colab": {
          "base_uri": "https://localhost:8080/"
        },
        "outputId": "3c9f8b42-4c28-40f9-c8e4-d4a60994bccd"
      },
      "execution_count": null,
      "outputs": [
        {
          "output_type": "execute_result",
          "data": {
            "text/plain": [
              "RandomForestClassifier()"
            ]
          },
          "metadata": {},
          "execution_count": 25
        }
      ]
    },
    {
      "cell_type": "code",
      "source": [
        "# teste com o modelo\n",
        "y_pred3070rf=rfc.predict(x_test3070)"
      ],
      "metadata": {
        "id": "uKMg0RACUorU"
      },
      "execution_count": null,
      "outputs": []
    },
    {
      "cell_type": "code",
      "source": [
        "# Avaliação \n",
        "from sklearn.metrics import accuracy_score\n",
        "import matplotlib.pyplot as plt\n",
        "from sklearn.metrics import plot_confusion_matrix\n",
        "from sklearn.metrics import classification_report"
      ],
      "metadata": {
        "id": "p3T6nABZUpMC"
      },
      "execution_count": null,
      "outputs": []
    },
    {
      "cell_type": "code",
      "source": [
        "# Aplicação da matriz de confusão\n",
        "_ = plot_confusion_matrix(rfc, x_test3070, y_test3070, cmap='Blues')"
      ],
      "metadata": {
        "id": "0cXPvueeUvwA",
        "colab": {
          "base_uri": "https://localhost:8080/"
        },
        "outputId": "1ddc7b73-2609-4c38-f440-99a4ba803e75"
      },
      "execution_count": null,
      "outputs": [
        {
          "output_type": "display_data",
          "data": {
            "text/plain": [
              "<Figure size 432x288 with 2 Axes>"
            ],
            "image/png": "[encoded data removed]"
          },
          "metadata": {
            "needs_background": "light"
          }
        }
      ]
    },
    {
      "cell_type": "code",
      "source": [
        "# Aplicação de todas as métricas\n",
        "print(classification_report(y_test3070, y_pred3070rf))"
      ],
      "metadata": {
        "colab": {
          "base_uri": "https://localhost:8080/"
        },
        "id": "glZ6iOAKa4Zo",
        "outputId": "200ab305-d8a6-4d2c-979e-2a05da4681af"
      },
      "execution_count": null,
      "outputs": [
        {
          "output_type": "stream",
          "name": "stdout",
          "text": [
            "              precision    recall  f1-score   support\n",
            "\n",
            "         0.0       0.78      0.95      0.86      1806\n",
            "         1.0       0.79      0.43      0.56       840\n",
            "\n",
            "    accuracy                           0.78      2646\n",
            "   macro avg       0.78      0.69      0.71      2646\n",
            "weighted avg       0.78      0.78      0.76      2646\n",
            "\n"
          ]
        }
      ]
    },
    {
      "cell_type": "markdown",
      "source": [
        "### ROC curva (30-70)"
      ],
      "metadata": {
        "id": "Unz_rizvMlrv"
      }
    },
    {
      "cell_type": "code",
      "source": [
        "from sklearn.metrics import roc_curve"
      ],
      "metadata": {
        "id": "-dxL8RRQCryS"
      },
      "execution_count": null,
      "outputs": []
    },
    {
      "cell_type": "code",
      "source": [
        "clf_fpr, clf_tpr, _ = roc_curve(y_test3070, y_pred3070dt) #decision tree\n",
        "rf_fpr, rf_tpr, _ = roc_curve(y_test3070, y_pred3070rf) #random forest\n",
        "gb_fpr, gb_tpr, _ = roc_curve(y_test3070, y_pred3070gb) "
      ],
      "metadata": {
        "id": "bcjHHcedCxIK"
      },
      "execution_count": null,
      "outputs": []
    },
    {
      "cell_type": "code",
      "source": [
        "plt.plot(clf_fpr, clf_tpr, linestyle='--', marker='.', label='DecisionTree')\n",
        "plt.plot(rf_fpr, rf_tpr, linestyle='--', marker='.', label='Random Forest')\n",
        "plt.plot(gb_fpr, gb_tpr, linestyle='-', marker='.', label='Gradient Boosting')\n",
        "\n",
        "# Title\n",
        "plt.title('ROC Plot')\n",
        "# Axis labels\n",
        "plt.xlabel('False Positive Rate')\n",
        "plt.ylabel('True Positive Rate')\n",
        "# Show legend\n",
        "plt.legend() # \n",
        "# Show plot\n",
        "plt.show()"
      ],
      "metadata": {
        "colab": {
          "base_uri": "https://localhost:8080/"
        },
        "id": "cIhQYIFKDBNC",
        "outputId": "f6eeb8ba-9300-4e44-b307-5004564f2818"
      },
      "execution_count": null,
      "outputs": [
        {
          "output_type": "display_data",
          "data": {
            "text/plain": [
              "<Figure size 432x288 with 1 Axes>"
            ],
            "image/png": "[encoded data removed]"
          },
          "metadata": {
            "needs_background": "light"
          }
        }
      ]
    },
    {
      "cell_type": "markdown",
      "source": [
        "## Modelo com proporção de 40/60 "
      ],
      "metadata": {
        "id": "y240PB6ZxT3G"
      }
    },
    {
      "cell_type": "code",
      "source": [
        "from sklearn.model_selection import train_test_split"
      ],
      "metadata": {
        "id": "9EknS4Sd3zkY"
      },
      "execution_count": null,
      "outputs": []
    },
    {
      "cell_type": "code",
      "source": [
        "# Dropa a coluna de target\n",
        "x = data_safra_artificial_2.drop(['ind_atrito'], axis = 1)\n",
        "y = data_safra_artificial_2['ind_atrito']\n",
        "\n",
        "# Separa o conjunto teste do de treinamento e o de treinamento recebe 60% dos dados\n",
        "x_train4060, x_test4060, y_train4060, y_test4060 = train_test_split(x, y,\n",
        "                                                    test_size = 0.4,\n",
        "                                                    random_state = 42)\n"
      ],
      "metadata": {
        "id": "v9F68z3n4KBt"
      },
      "execution_count": null,
      "outputs": []
    },
    {
      "cell_type": "markdown",
      "source": [
        "### Gradient Boost"
      ],
      "metadata": {
        "id": "nOusSGKm0rYi"
      }
    },
    {
      "cell_type": "code",
      "source": [
        "from sklearn.ensemble import GradientBoostingClassifier"
      ],
      "metadata": {
        "id": "5D2ppqB98Eje"
      },
      "execution_count": null,
      "outputs": []
    },
    {
      "cell_type": "code",
      "source": [
        "# Variável que será utilizada para pegar apenas partes da amostra aos poucos para o treinamento do modelo\n",
        "lr_list = [0.05, 0.075, 0.1, 0.25, 0.5, 0.75, 1]\n",
        "\n",
        "# Loop que passa por todas as proporções do conjunto de treinamento para o treinamento do modelo\n",
        "for learning_rate in lr_list:\n",
        "    gb_clf = GradientBoostingClassifier(n_estimators=20, learning_rate=learning_rate, max_features=2, max_depth=2, random_state=0)\n",
        "    gb_clf.fit(x_train4060, y_train4060)\n",
        "\n",
        "    print(\"Learning rate: \", learning_rate)\n",
        "    print(\"Accuracy score (training): {0:.3f}\".format(gb_clf.score(x_train4060, y_train4060)))\n",
        "    print(\"Accuracy score (validation): {0:.3f}\".format(gb_clf.score(x_test4060, y_test4060)))"
      ],
      "metadata": {
        "colab": {
          "base_uri": "https://localhost:8080/"
        },
        "id": "C8iamtnn4r4E",
        "outputId": "55b47222-96b3-4372-b50b-8fd5643bb33c"
      },
      "execution_count": null,
      "outputs": [
        {
          "output_type": "stream",
          "name": "stdout",
          "text": [
            "Learning rate:  0.05\n",
            "Accuracy score (training): 0.719\n",
            "Accuracy score (validation): 0.701\n",
            "Learning rate:  0.075\n",
            "Accuracy score (training): 0.723\n",
            "Accuracy score (validation): 0.708\n",
            "Learning rate:  0.1\n",
            "Accuracy score (training): 0.726\n",
            "Accuracy score (validation): 0.713\n",
            "Learning rate:  0.25\n",
            "Accuracy score (training): 0.734\n",
            "Accuracy score (validation): 0.719\n",
            "Learning rate:  0.5\n",
            "Accuracy score (training): 0.743\n",
            "Accuracy score (validation): 0.721\n",
            "Learning rate:  0.75\n",
            "Accuracy score (training): 0.746\n",
            "Accuracy score (validation): 0.718\n",
            "Learning rate:  1\n",
            "Accuracy score (training): 0.740\n",
            "Accuracy score (validation): 0.720\n"
          ]
        }
      ]
    },
    {
      "cell_type": "code",
      "source": [
        "# Teste do modelo\n",
        "y_pred4060gb = gb_clf.predict(x_test4060)"
      ],
      "metadata": {
        "id": "7Xy6TGXgSL_2"
      },
      "execution_count": null,
      "outputs": []
    },
    {
      "cell_type": "code",
      "source": [
        "# Avaliação\n",
        "import matplotlib.pyplot as plt\n",
        "from sklearn.metrics import plot_confusion_matrix\n",
        "from sklearn.metrics import classification_report"
      ],
      "metadata": {
        "id": "pu1n-xCCS3g8"
      },
      "execution_count": null,
      "outputs": []
    },
    {
      "cell_type": "code",
      "source": [
        "# Aplicação da matriz de confusão\n",
        "_ = plot_confusion_matrix(gb_clf, x_test4060, y_test4060, cmap='Blues')"
      ],
      "metadata": {
        "id": "7Fr7uvGgTTCs",
        "colab": {
          "base_uri": "https://localhost:8080/"
        },
        "outputId": "e7a10831-0a54-4542-88ca-7ef3e2f4b554"
      },
      "execution_count": null,
      "outputs": [
        {
          "output_type": "display_data",
          "data": {
            "text/plain": [
              "<Figure size 432x288 with 2 Axes>"
            ],
            "image/png": "[encoded data removed]"
          },
          "metadata": {
            "needs_background": "light"
          }
        }
      ]
    },
    {
      "cell_type": "code",
      "source": [
        "#Aplicação de todas as métricas\n",
        "print(classification_report(y_test4060, y_pred4060gb))"
      ],
      "metadata": {
        "colab": {
          "base_uri": "https://localhost:8080/"
        },
        "id": "YZtCXDlTJnxa",
        "outputId": "5f727cb1-cb3a-4830-9150-b15b2c1ddcc0"
      },
      "execution_count": null,
      "outputs": [
        {
          "output_type": "stream",
          "name": "stdout",
          "text": [
            "              precision    recall  f1-score   support\n",
            "\n",
            "         0.0       0.70      0.91      0.79      1532\n",
            "         1.0       0.80      0.46      0.58      1130\n",
            "\n",
            "    accuracy                           0.72      2662\n",
            "   macro avg       0.75      0.69      0.69      2662\n",
            "weighted avg       0.74      0.72      0.70      2662\n",
            "\n"
          ]
        }
      ]
    },
    {
      "cell_type": "markdown",
      "source": [
        "### Árvore de decisão"
      ],
      "metadata": {
        "id": "AmQ0g6Ko1Eqv"
      }
    },
    {
      "cell_type": "code",
      "source": [
        "from sklearn import tree\n",
        "from sklearn.tree import DecisionTreeClassifier"
      ],
      "metadata": {
        "id": "KFWsHxRe8Wwa"
      },
      "execution_count": null,
      "outputs": []
    },
    {
      "cell_type": "code",
      "source": [
        "# treinamento do modelo pelo algoritmo da árvore de decisão\n",
        "clf = tree.DecisionTreeClassifier()\n",
        "clf = clf.fit(x_train4060, y_train4060)"
      ],
      "metadata": {
        "id": "xkapM8S_8lXn"
      },
      "execution_count": null,
      "outputs": []
    },
    {
      "cell_type": "code",
      "source": [
        "# teste com o modelo\n",
        "y_pred4060dt = clf.predict(x_test4060)"
      ],
      "metadata": {
        "id": "NRvTXsPBQ0bC"
      },
      "execution_count": null,
      "outputs": []
    },
    {
      "cell_type": "code",
      "source": [
        "# Avaliação \n",
        "from sklearn.metrics import accuracy_score\n",
        "import matplotlib.pyplot as plt\n",
        "from sklearn.metrics import plot_confusion_matrix\n",
        "from sklearn.metrics import classification_report"
      ],
      "metadata": {
        "id": "clAXAILUQ9V7"
      },
      "execution_count": null,
      "outputs": []
    },
    {
      "cell_type": "code",
      "source": [
        "# Aplicação da matriz de confusão\n",
        "_ = plot_confusion_matrix(clf, x_test4060, y_test4060, cmap='Blues')"
      ],
      "metadata": {
        "id": "qEM_iYoRRHFS",
        "colab": {
          "base_uri": "https://localhost:8080/"
        },
        "outputId": "48a08501-6a9c-4c99-b01c-ab2960380dfa"
      },
      "execution_count": null,
      "outputs": [
        {
          "output_type": "display_data",
          "data": {
            "text/plain": [
              "<Figure size 432x288 with 2 Axes>"
            ],
            "image/png": "[encoded data removed]"
          },
          "metadata": {
            "needs_background": "light"
          }
        }
      ]
    },
    {
      "cell_type": "code",
      "source": [
        "# Aplicação de todas as métricas\n",
        "print(classification_report(y_test4060, y_pred4060dt))"
      ],
      "metadata": {
        "colab": {
          "base_uri": "https://localhost:8080/"
        },
        "id": "yMoVrLicis8t",
        "outputId": "22b51a92-07d9-4184-e74a-5928bb27cd36"
      },
      "execution_count": null,
      "outputs": [
        {
          "output_type": "stream",
          "name": "stdout",
          "text": [
            "              precision    recall  f1-score   support\n",
            "\n",
            "         0.0       0.70      0.72      0.71      1532\n",
            "         1.0       0.61      0.58      0.59      1130\n",
            "\n",
            "    accuracy                           0.66      2662\n",
            "   macro avg       0.65      0.65      0.65      2662\n",
            "weighted avg       0.66      0.66      0.66      2662\n",
            "\n"
          ]
        }
      ]
    },
    {
      "cell_type": "markdown",
      "source": [
        "### Random Forest"
      ],
      "metadata": {
        "id": "Yt9meBZv1NCz"
      }
    },
    {
      "cell_type": "code",
      "source": [
        "from sklearn.ensemble import RandomForestClassifier"
      ],
      "metadata": {
        "id": "h6Czzqhl8wH5"
      },
      "execution_count": null,
      "outputs": []
    },
    {
      "cell_type": "code",
      "source": [
        "# treinamento do modelo pelo algoritmo random forest\n",
        "rfc = RandomForestClassifier()\n",
        "rfc.fit(x_train4060, y_train4060)"
      ],
      "metadata": {
        "colab": {
          "base_uri": "https://localhost:8080/"
        },
        "id": "B-vdGG229l4U",
        "outputId": "3af9d446-4aec-46f3-f4db-9c8981c6c54d"
      },
      "execution_count": null,
      "outputs": [
        {
          "output_type": "execute_result",
          "data": {
            "text/plain": [
              "RandomForestClassifier()"
            ]
          },
          "metadata": {},
          "execution_count": 48
        }
      ]
    },
    {
      "cell_type": "code",
      "source": [
        "# teste com o modelo\n",
        "y_pred4060rf=rfc.predict(x_test4060)"
      ],
      "metadata": {
        "id": "4EJyVPklN4u0"
      },
      "execution_count": null,
      "outputs": []
    },
    {
      "cell_type": "code",
      "source": [
        "# Avaliação \n",
        "from sklearn.metrics import accuracy_score\n",
        "import matplotlib.pyplot as plt\n",
        "from sklearn.metrics import plot_confusion_matrix\n",
        "from sklearn.metrics import classification_report"
      ],
      "metadata": {
        "id": "YmyRDXpJOk4X"
      },
      "execution_count": null,
      "outputs": []
    },
    {
      "cell_type": "code",
      "source": [
        "# Aplicação da matriz de confusão\n",
        "_ = plot_confusion_matrix(rfc, x_test4060, y_test4060, cmap='Blues')"
      ],
      "metadata": {
        "id": "22G5d21wPpR0",
        "colab": {
          "base_uri": "https://localhost:8080/"
        },
        "outputId": "b6c3b17b-c234-4b65-c464-423f78d996bf"
      },
      "execution_count": null,
      "outputs": [
        {
          "output_type": "display_data",
          "data": {
            "text/plain": [
              "<Figure size 432x288 with 2 Axes>"
            ],
            "image/png": "[encoded data removed]"
          },
          "metadata": {
            "needs_background": "light"
          }
        }
      ]
    },
    {
      "cell_type": "code",
      "source": [
        "# Aplicação de todas as métricas\n",
        "print(classification_report(y_test4060, y_pred4060rf))"
      ],
      "metadata": {
        "colab": {
          "base_uri": "https://localhost:8080/"
        },
        "id": "2dr_3AzVbttZ",
        "outputId": "beaa20a6-c781-4c90-8aa4-f304f88bc552"
      },
      "execution_count": null,
      "outputs": [
        {
          "output_type": "stream",
          "name": "stdout",
          "text": [
            "              precision    recall  f1-score   support\n",
            "\n",
            "         0.0       0.71      0.87      0.78      1532\n",
            "         1.0       0.75      0.53      0.62      1130\n",
            "\n",
            "    accuracy                           0.72      2662\n",
            "   macro avg       0.73      0.70      0.70      2662\n",
            "weighted avg       0.73      0.72      0.71      2662\n",
            "\n"
          ]
        }
      ]
    },
    {
      "cell_type": "markdown",
      "source": [
        "### ROC curva (40-60)"
      ],
      "metadata": {
        "id": "DIj3sobwNyB5"
      }
    },
    {
      "cell_type": "code",
      "source": [
        "from sklearn.metrics import roc_curve"
      ],
      "metadata": {
        "id": "_W0c-3OFNyB6"
      },
      "execution_count": null,
      "outputs": []
    },
    {
      "cell_type": "code",
      "source": [
        "clf_fpr, clf_tpr, _ = roc_curve(y_test4060, y_pred4060dt) #decision tree\n",
        "rf_fpr, rf_tpr, _ = roc_curve(y_test4060, y_pred4060rf) #random forest\n",
        "gb_fpr, gb_tpr, _ = roc_curve(y_test4060, y_pred4060gb) #gradient boost"
      ],
      "metadata": {
        "id": "u6nOqLJaNyB6"
      },
      "execution_count": null,
      "outputs": []
    },
    {
      "cell_type": "code",
      "source": [
        "plt.plot(clf_fpr, clf_tpr, linestyle='--', marker='.', label='DecisionTree')\n",
        "plt.plot(rf_fpr, rf_tpr, linestyle='--', marker='.', label='Random Forest')\n",
        "plt.plot(gb_fpr, gb_tpr, linestyle='-', marker='.', label='Gradient Boosting')\n",
        "\n",
        "# Title\n",
        "plt.title('ROC Plot')\n",
        "# Axis labels\n",
        "plt.xlabel('False Positive Rate')\n",
        "plt.ylabel('True Positive Rate')\n",
        "# Show legend\n",
        "plt.legend() # \n",
        "# Show plot\n",
        "plt.show()"
      ],
      "metadata": {
        "colab": {
          "base_uri": "https://localhost:8080/"
        },
        "outputId": "923d4852-3cd7-4d47-92ae-b0e17f43fe11",
        "id": "0nLQ0sbENyB6"
      },
      "execution_count": null,
      "outputs": [
        {
          "output_type": "display_data",
          "data": {
            "text/plain": [
              "<Figure size 432x288 with 1 Axes>"
            ],
            "image/png": "[encoded data removed]"
          },
          "metadata": {
            "needs_background": "light"
          }
        }
      ]
    },
    {
      "cell_type": "markdown",
      "source": [
        "## Modelo com proporção de 60/40 "
      ],
      "metadata": {
        "id": "ftishSDmVTI8"
      }
    },
    {
      "cell_type": "markdown",
      "source": [
        "Por conta da solução estar apresentando mais falsos negativos do que falsos positivos, de acordo com as matrizes de confusão, manipulamos os dados para testar se conseguiriamos inverter esses resultados pois é preferivel que tenham mais falsos positivos do que o contrário. "
      ],
      "metadata": {
        "id": "eeqrh57OM60z"
      }
    },
    {
      "cell_type": "code",
      "source": [
        "from sklearn.model_selection import train_test_split"
      ],
      "metadata": {
        "id": "2BrUHnsGVTI9"
      },
      "execution_count": null,
      "outputs": []
    },
    {
      "cell_type": "code",
      "source": [
        "# Dropa a coluna de target\n",
        "x = data_safra_artificial_3.drop(['ind_atrito'], axis = 1)\n",
        "y = data_safra_artificial_3['ind_atrito']\n",
        "\n",
        "# Separa o conjunto teste do de treinamento e o de treinamento recebe 60% dos dados\n",
        "x_train6040, x_test6040, y_train6040, y_test6040 = train_test_split(x, y,\n",
        "                                                    test_size = 0.4,\n",
        "                                                    random_state = 42)\n"
      ],
      "metadata": {
        "id": "gmM-qGgVVTI9"
      },
      "execution_count": null,
      "outputs": []
    },
    {
      "cell_type": "markdown",
      "source": [
        "### Gradient Boost"
      ],
      "metadata": {
        "id": "ylbf0rfpVTI-"
      }
    },
    {
      "cell_type": "code",
      "source": [
        "from sklearn.ensemble import GradientBoostingClassifier"
      ],
      "metadata": {
        "id": "pv2E8eYZVTI-"
      },
      "execution_count": null,
      "outputs": []
    },
    {
      "cell_type": "code",
      "source": [
        "# Variável que será utilizada para pegar apenas partes da amostra aos poucos para o treinamento do modelo\n",
        "lr_list = [0.05, 0.075, 0.1, 0.25, 0.5, 0.75, 1]\n",
        "\n",
        "# Loop que passa por todas as proporções do conjunto de treinamento para o treinamento do modelo\n",
        "for learning_rate in lr_list:\n",
        "    gb_clf = GradientBoostingClassifier(n_estimators=20, learning_rate=learning_rate, max_features=2, max_depth=2, random_state=0)\n",
        "    gb_clf.fit(x_train6040, y_train6040)\n",
        "\n",
        "    print(\"Learning rate: \", learning_rate)\n",
        "    print(\"Accuracy score (training): {0:.3f}\".format(gb_clf.score(x_train6040, y_train6040)))\n",
        "    print(\"Accuracy score (validation): {0:.3f}\".format(gb_clf.score(x_test6040, y_test6040)))"
      ],
      "metadata": {
        "colab": {
          "base_uri": "https://localhost:8080/"
        },
        "outputId": "c148c499-ce74-4d94-dc45-412f9291cb9a",
        "id": "XgGsKRUEVTI-"
      },
      "execution_count": null,
      "outputs": [
        {
          "output_type": "stream",
          "name": "stdout",
          "text": [
            "Learning rate:  0.05\n",
            "Accuracy score (training): 0.678\n",
            "Accuracy score (validation): 0.672\n",
            "Learning rate:  0.075\n",
            "Accuracy score (training): 0.681\n",
            "Accuracy score (validation): 0.677\n",
            "Learning rate:  0.1\n",
            "Accuracy score (training): 0.700\n",
            "Accuracy score (validation): 0.695\n",
            "Learning rate:  0.25\n",
            "Accuracy score (training): 0.710\n",
            "Accuracy score (validation): 0.690\n",
            "Learning rate:  0.5\n",
            "Accuracy score (training): 0.717\n",
            "Accuracy score (validation): 0.686\n",
            "Learning rate:  0.75\n",
            "Accuracy score (training): 0.727\n",
            "Accuracy score (validation): 0.683\n",
            "Learning rate:  1\n",
            "Accuracy score (training): 0.727\n",
            "Accuracy score (validation): 0.694\n"
          ]
        }
      ]
    },
    {
      "cell_type": "code",
      "source": [
        "# Teste do modelo\n",
        "y_pred6040gb = gb_clf.predict(x_test6040)"
      ],
      "metadata": {
        "id": "yMCaHt1BVTI_"
      },
      "execution_count": null,
      "outputs": []
    },
    {
      "cell_type": "code",
      "source": [
        "# Avaliação\n",
        "import matplotlib.pyplot as plt\n",
        "from sklearn.metrics import plot_confusion_matrix\n",
        "from sklearn.metrics import classification_report"
      ],
      "metadata": {
        "id": "SX9911t2VTJA"
      },
      "execution_count": null,
      "outputs": []
    },
    {
      "cell_type": "code",
      "source": [
        "# Aplicação da matriz de confusão\n",
        "_ = plot_confusion_matrix(gb_clf, x_test6040, y_test6040, cmap='Blues')"
      ],
      "metadata": {
        "colab": {
          "base_uri": "https://localhost:8080/",
          "height": 279
        },
        "outputId": "f9dde1ee-5efe-4fbc-f8d0-9bafda6d9479",
        "id": "9So2LW4pVTJA"
      },
      "execution_count": null,
      "outputs": [
        {
          "output_type": "display_data",
          "data": {
            "text/plain": [
              "<Figure size 432x288 with 2 Axes>"
            ],
            "image/png": "[encoded data removed]"
          },
          "metadata": {
            "needs_background": "light"
          }
        }
      ]
    },
    {
      "cell_type": "code",
      "source": [
        "#Aplicação de todas as métricas\n",
        "print(classification_report(y_test6040, y_pred6040gb))"
      ],
      "metadata": {
        "colab": {
          "base_uri": "https://localhost:8080/"
        },
        "outputId": "a7818043-3d32-4632-8656-ae49ed677b75",
        "id": "dJXipQYDVTJA"
      },
      "execution_count": null,
      "outputs": [
        {
          "output_type": "stream",
          "name": "stdout",
          "text": [
            "              precision    recall  f1-score   support\n",
            "\n",
            "         0.0       0.59      0.62      0.60       691\n",
            "         1.0       0.76      0.74      0.75      1147\n",
            "\n",
            "    accuracy                           0.69      1838\n",
            "   macro avg       0.68      0.68      0.68      1838\n",
            "weighted avg       0.70      0.69      0.70      1838\n",
            "\n"
          ]
        }
      ]
    },
    {
      "cell_type": "markdown",
      "source": [
        "### Árvore de decisão"
      ],
      "metadata": {
        "id": "Q5OgdmkaVTJB"
      }
    },
    {
      "cell_type": "code",
      "source": [
        "from sklearn import tree\n",
        "from sklearn.tree import DecisionTreeClassifier"
      ],
      "metadata": {
        "id": "c9pecT33VTJB"
      },
      "execution_count": null,
      "outputs": []
    },
    {
      "cell_type": "code",
      "source": [
        "# treinamento do modelo pelo algoritmo da árvore de decisão\n",
        "clf = tree.DecisionTreeClassifier()\n",
        "clf = clf.fit(x_train6040, y_train6040)"
      ],
      "metadata": {
        "id": "zevzfuMYVTJC"
      },
      "execution_count": null,
      "outputs": []
    },
    {
      "cell_type": "code",
      "source": [
        "# teste com o modelo\n",
        "y_pred6040dt = clf.predict(x_test6040)"
      ],
      "metadata": {
        "id": "kICEJcyNVTJC"
      },
      "execution_count": null,
      "outputs": []
    },
    {
      "cell_type": "code",
      "source": [
        "# Avaliação \n",
        "from sklearn.metrics import accuracy_score\n",
        "import matplotlib.pyplot as plt\n",
        "from sklearn.metrics import plot_confusion_matrix\n",
        "from sklearn.metrics import classification_report"
      ],
      "metadata": {
        "id": "A4glb0YkVTJC"
      },
      "execution_count": null,
      "outputs": []
    },
    {
      "cell_type": "code",
      "source": [
        "# Aplicação da matriz de confusão\n",
        "_ = plot_confusion_matrix(clf, x_test6040, y_test6040, cmap='Blues')"
      ],
      "metadata": {
        "colab": {
          "base_uri": "https://localhost:8080/",
          "height": 279
        },
        "outputId": "fa874256-4348-45be-a25e-2ecc51285bc3",
        "id": "2ucBhohWVTJD"
      },
      "execution_count": null,
      "outputs": [
        {
          "output_type": "display_data",
          "data": {
            "text/plain": [
              "<Figure size 432x288 with 2 Axes>"
            ],
            "image/png": "[encoded data removed]"
          },
          "metadata": {
            "needs_background": "light"
          }
        }
      ]
    },
    {
      "cell_type": "code",
      "source": [
        "# Aplicação de todas as métricas\n",
        "print(classification_report(y_test6040, y_pred6040dt))"
      ],
      "metadata": {
        "colab": {
          "base_uri": "https://localhost:8080/"
        },
        "outputId": "31e5b473-cf9a-4c17-f7ab-5990695420cb",
        "id": "xwwj8A_qVTJD"
      },
      "execution_count": null,
      "outputs": [
        {
          "output_type": "stream",
          "name": "stdout",
          "text": [
            "              precision    recall  f1-score   support\n",
            "\n",
            "         0.0       0.52      0.59      0.56       691\n",
            "         1.0       0.73      0.67      0.70      1147\n",
            "\n",
            "    accuracy                           0.64      1838\n",
            "   macro avg       0.63      0.63      0.63      1838\n",
            "weighted avg       0.65      0.64      0.65      1838\n",
            "\n"
          ]
        }
      ]
    },
    {
      "cell_type": "markdown",
      "source": [
        "### Random Forest"
      ],
      "metadata": {
        "id": "eruc6qPNVTJE"
      }
    },
    {
      "cell_type": "code",
      "source": [
        "from sklearn.ensemble import RandomForestClassifier"
      ],
      "metadata": {
        "id": "t2XLsE-cVTJE"
      },
      "execution_count": null,
      "outputs": []
    },
    {
      "cell_type": "code",
      "source": [
        "# treinamento do modelo pelo algoritmo random forest\n",
        "rfc = RandomForestClassifier()\n",
        "rfc.fit(x_train6040, y_train6040)"
      ],
      "metadata": {
        "colab": {
          "base_uri": "https://localhost:8080/"
        },
        "outputId": "f73e186f-743e-4954-fc3b-4f03d432a800",
        "id": "ARYBiNRMVTJF"
      },
      "execution_count": null,
      "outputs": [
        {
          "output_type": "execute_result",
          "data": {
            "text/plain": [
              "RandomForestClassifier()"
            ]
          },
          "metadata": {},
          "execution_count": 71
        }
      ]
    },
    {
      "cell_type": "code",
      "source": [
        "# teste com o modelo\n",
        "y_pred6040rf=rfc.predict(x_test6040)"
      ],
      "metadata": {
        "id": "Nil-ixovVTJF"
      },
      "execution_count": null,
      "outputs": []
    },
    {
      "cell_type": "code",
      "source": [
        "# Avaliação \n",
        "from sklearn.metrics import accuracy_score\n",
        "import matplotlib.pyplot as plt\n",
        "from sklearn.metrics import plot_confusion_matrix\n",
        "from sklearn.metrics import classification_report"
      ],
      "metadata": {
        "id": "jkP9eUDBVTJG"
      },
      "execution_count": null,
      "outputs": []
    },
    {
      "cell_type": "code",
      "source": [
        "# Aplicação da matriz de confusão\n",
        "_ = plot_confusion_matrix(rfc, x_test6040, y_test6040, cmap='Blues')"
      ],
      "metadata": {
        "colab": {
          "base_uri": "https://localhost:8080/",
          "height": 279
        },
        "outputId": "5a77065a-e535-4a9d-b3ad-8566e54558a3",
        "id": "uO1NH7GvVTJH"
      },
      "execution_count": null,
      "outputs": [
        {
          "output_type": "display_data",
          "data": {
            "text/plain": [
              "<Figure size 432x288 with 2 Axes>"
            ],
            "image/png": "[encoded data removed]"
          },
          "metadata": {
            "needs_background": "light"
          }
        }
      ]
    },
    {
      "cell_type": "code",
      "source": [
        "# Aplicação de todas as métricas\n",
        "print(classification_report(y_test6040, y_pred6040rf))"
      ],
      "metadata": {
        "colab": {
          "base_uri": "https://localhost:8080/"
        },
        "outputId": "e36b31c6-a73b-4abe-e22a-227187658c84",
        "id": "7tomV19VVTJH"
      },
      "execution_count": null,
      "outputs": [
        {
          "output_type": "stream",
          "name": "stdout",
          "text": [
            "              precision    recall  f1-score   support\n",
            "\n",
            "         0.0       0.59      0.61      0.60       691\n",
            "         1.0       0.76      0.75      0.75      1147\n",
            "\n",
            "    accuracy                           0.69      1838\n",
            "   macro avg       0.68      0.68      0.68      1838\n",
            "weighted avg       0.70      0.69      0.70      1838\n",
            "\n"
          ]
        }
      ]
    },
    {
      "cell_type": "markdown",
      "source": [
        "### ROC curva (60-40)"
      ],
      "metadata": {
        "id": "PJk10oabNpQ6"
      }
    },
    {
      "cell_type": "code",
      "source": [
        "from sklearn.metrics import roc_curve"
      ],
      "metadata": {
        "id": "xjS96-3_NpQ7"
      },
      "execution_count": null,
      "outputs": []
    },
    {
      "cell_type": "code",
      "source": [
        "clf_fpr, clf_tpr, _ = roc_curve(y_test6040, y_pred6040dt) #decision tree\n",
        "rf_fpr, rf_tpr, _ = roc_curve(y_test6040, y_pred6040rf) #random forest\n",
        "gb_fpr, gb_tpr, _ = roc_curve(y_test6040, y_pred6040gb) #gradient boost"
      ],
      "metadata": {
        "id": "7ZLgwDD4NpQ7"
      },
      "execution_count": null,
      "outputs": []
    },
    {
      "cell_type": "code",
      "source": [
        "plt.plot(clf_fpr, clf_tpr, linestyle='--', marker='.', label='DecisionTree')\n",
        "plt.plot(rf_fpr, rf_tpr, linestyle='--', marker='.', label='Random Forest')\n",
        "plt.plot(gb_fpr, gb_tpr, linestyle='-', marker='.', label='Gradient Boosting')\n",
        "\n",
        "# Título\n",
        "plt.title('ROC Plot')\n",
        "# Etiquetas dos eixos X e Y\n",
        "plt.xlabel('False Positive Rate')\n",
        "plt.ylabel('True Positive Rate')\n",
        "# Legenda\n",
        "plt.legend() # \n",
        "# Show plot\n",
        "plt.show()"
      ],
      "metadata": {
        "colab": {
          "base_uri": "https://localhost:8080/",
          "height": 295
        },
        "outputId": "5d065152-f6c2-41c2-92d9-6e949fe27f25",
        "id": "HA74ayUJNpQ7"
      },
      "execution_count": null,
      "outputs": [
        {
          "output_type": "display_data",
          "data": {
            "text/plain": [
              "<Figure size 432x288 with 1 Axes>"
            ],
            "image/png": "[encoded data removed]"
          },
          "metadata": {
            "needs_background": "light"
          }
        }
      ]
    },
    {
      "cell_type": "markdown",
      "source": [
        "## Modelo com proporção de 50/50"
      ],
      "metadata": {
        "id": "74ZYnix2OWyU"
      }
    },
    {
      "cell_type": "markdown",
      "source": [
        "Após a manipulação dos dados, onde forçamos mais clientes atritados, com o intuito de receber mais falsos negativos, não obtivemos o resultado esperado. Por conta disso, decidimos realizar mais uma manipulação onde os dados entre atritados e não atritados são iguais e realizar os testes para verificar se apresenta diferença nos resultados.  "
      ],
      "metadata": {
        "id": "umqBN_nKOeI_"
      }
    },
    {
      "cell_type": "code",
      "source": [
        "from sklearn.model_selection import train_test_split"
      ],
      "metadata": {
        "id": "PRIv1ZVvWr-M"
      },
      "execution_count": null,
      "outputs": []
    },
    {
      "cell_type": "code",
      "source": [
        "# Dropa a coluna de target\n",
        "x = data_safra_artificial_4.drop(['ind_atrito'], axis = 1)\n",
        "y = data_safra_artificial_4['ind_atrito']\n",
        "# Separa o conjunto teste do de treinamento e o de treinamento recebe 80% dos dados\n",
        "x_train5050, x_test5050, y_train5050, y_test5050 = train_test_split(x, y,\n",
        "                                                    test_size = 0.3,\n",
        "                                                    random_state = 42)"
      ],
      "metadata": {
        "id": "Br0GpRC7Wr-M"
      },
      "execution_count": null,
      "outputs": []
    },
    {
      "cell_type": "markdown",
      "source": [
        "### Gradient Boost"
      ],
      "metadata": {
        "id": "H2vJqmf-Wr-M"
      }
    },
    {
      "cell_type": "code",
      "source": [
        "from sklearn.ensemble import GradientBoostingClassifier"
      ],
      "metadata": {
        "id": "Kw8cMtUHWr-N"
      },
      "execution_count": null,
      "outputs": []
    },
    {
      "cell_type": "code",
      "source": [
        "# Variável que será utilizada para pegar apenas partes da amostra aos poucos para o treinamento do modelo\n",
        "lr_list = [0.05, 0.075, 0.1, 0.25, 0.5, 0.75, 1]\n",
        "\n",
        "# Loop que passa por todas as proporções do conjunto de treinamento para o treinamento do modelo\n",
        "for learning_rate in lr_list:\n",
        "    gb_clf = GradientBoostingClassifier(n_estimators=20, learning_rate=learning_rate, max_features=2, max_depth=2, random_state=0)\n",
        "    gb_clf.fit(x_train5050, y_train5050)\n",
        "\n",
        "    print(\"Learning rate: \", learning_rate)\n",
        "    print(\"Accuracy score (training): {0:.3f}\".format(gb_clf.score(x_train5050, y_train5050)))\n",
        "    print(\"Accuracy score (validation): {0:.3f}\".format(gb_clf.score(x_test5050, y_test5050)))"
      ],
      "metadata": {
        "colab": {
          "base_uri": "https://localhost:8080/"
        },
        "outputId": "74e7a490-045c-41c6-8da9-98fa7b1a1dd1",
        "id": "CX2iz-RNWr-N"
      },
      "execution_count": null,
      "outputs": [
        {
          "output_type": "stream",
          "name": "stdout",
          "text": [
            "Learning rate:  0.05\n",
            "Accuracy score (training): 0.714\n",
            "Accuracy score (validation): 0.692\n",
            "Learning rate:  0.075\n",
            "Accuracy score (training): 0.714\n",
            "Accuracy score (validation): 0.694\n",
            "Learning rate:  0.1\n",
            "Accuracy score (training): 0.717\n",
            "Accuracy score (validation): 0.692\n",
            "Learning rate:  0.25\n",
            "Accuracy score (training): 0.718\n",
            "Accuracy score (validation): 0.700\n",
            "Learning rate:  0.5\n",
            "Accuracy score (training): 0.721\n",
            "Accuracy score (validation): 0.683\n",
            "Learning rate:  0.75\n",
            "Accuracy score (training): 0.725\n",
            "Accuracy score (validation): 0.680\n",
            "Learning rate:  1\n",
            "Accuracy score (training): 0.729\n",
            "Accuracy score (validation): 0.676\n"
          ]
        }
      ]
    },
    {
      "cell_type": "code",
      "source": [
        "# Teste do modelo\n",
        "y_pred5050gb = gb_clf.predict(x_test5050)"
      ],
      "metadata": {
        "id": "pQILasgkWr-N"
      },
      "execution_count": null,
      "outputs": []
    },
    {
      "cell_type": "code",
      "source": [
        "# Avaliação\n",
        "import matplotlib.pyplot as plt\n",
        "from sklearn.metrics import plot_confusion_matrix\n",
        "from sklearn.metrics import classification_report"
      ],
      "metadata": {
        "id": "kIsDv3g1Wr-N"
      },
      "execution_count": null,
      "outputs": []
    },
    {
      "cell_type": "code",
      "source": [
        "# Aplicação da matriz de confusão\n",
        "_ = plot_confusion_matrix(gb_clf, x_test5050, y_test5050, cmap='Blues')"
      ],
      "metadata": {
        "colab": {
          "base_uri": "https://localhost:8080/"
        },
        "outputId": "77b27132-904b-4b73-a956-e947c678cb0c",
        "id": "tKHQZoshWr-N"
      },
      "execution_count": null,
      "outputs": [
        {
          "output_type": "display_data",
          "data": {
            "text/plain": [
              "<Figure size 432x288 with 2 Axes>"
            ],
            "image/png": "[encoded data removed]"
          },
          "metadata": {
            "needs_background": "light"
          }
        }
      ]
    },
    {
      "cell_type": "code",
      "source": [
        "#Aplicação de todas as métricas\n",
        "print(classification_report(y_test5050, y_pred5050gb))"
      ],
      "metadata": {
        "colab": {
          "base_uri": "https://localhost:8080/"
        },
        "outputId": "0efb97af-4ff0-464e-ed31-8eb3fe167e77",
        "id": "Lyk1e-XCWr-N"
      },
      "execution_count": null,
      "outputs": [
        {
          "output_type": "stream",
          "name": "stdout",
          "text": [
            "              precision    recall  f1-score   support\n",
            "\n",
            "         0.0       0.64      0.73      0.68       794\n",
            "         1.0       0.72      0.62      0.67       860\n",
            "\n",
            "    accuracy                           0.68      1654\n",
            "   macro avg       0.68      0.68      0.68      1654\n",
            "weighted avg       0.68      0.68      0.68      1654\n",
            "\n"
          ]
        }
      ]
    },
    {
      "cell_type": "markdown",
      "source": [
        "### Árvore de decisão"
      ],
      "metadata": {
        "id": "1yjFpI89Wr-N"
      }
    },
    {
      "cell_type": "code",
      "source": [
        "from sklearn import tree\n",
        "from sklearn.tree import DecisionTreeClassifier"
      ],
      "metadata": {
        "id": "8FvRlZ4MWr-O"
      },
      "execution_count": null,
      "outputs": []
    },
    {
      "cell_type": "code",
      "source": [
        "# treinamento do modelo pelo algoritmo da árvore de decisão\n",
        "clf = tree.DecisionTreeClassifier()\n",
        "clf = clf.fit(x_train5050, y_train5050)"
      ],
      "metadata": {
        "id": "tRL4XAnpWr-O"
      },
      "execution_count": null,
      "outputs": []
    },
    {
      "cell_type": "code",
      "source": [
        "# teste com o modelo\n",
        "y_pred5050dt = clf.predict(x_test5050)"
      ],
      "metadata": {
        "id": "Yj8lSsAxWr-O"
      },
      "execution_count": null,
      "outputs": []
    },
    {
      "cell_type": "code",
      "source": [
        "# Avaliação \n",
        "from sklearn.metrics import accuracy_score\n",
        "import matplotlib.pyplot as plt\n",
        "from sklearn.metrics import plot_confusion_matrix\n",
        "from sklearn.metrics import classification_report"
      ],
      "metadata": {
        "id": "MUT3-DLuWr-O"
      },
      "execution_count": null,
      "outputs": []
    },
    {
      "cell_type": "code",
      "source": [
        "# Aplicação da matriz de confusão\n",
        "_ = plot_confusion_matrix(clf, x_test5050, y_test5050, cmap='Blues')"
      ],
      "metadata": {
        "colab": {
          "base_uri": "https://localhost:8080/"
        },
        "outputId": "ea94b6d9-c543-4730-a68e-c6be5e31fc65",
        "id": "Ek_ZpJNAWr-O"
      },
      "execution_count": null,
      "outputs": [
        {
          "output_type": "display_data",
          "data": {
            "text/plain": [
              "<Figure size 432x288 with 2 Axes>"
            ],
            "image/png": "[encoded data removed]"
          },
          "metadata": {
            "needs_background": "light"
          }
        }
      ]
    },
    {
      "cell_type": "code",
      "source": [
        "# Aplicação de todas as métricas\n",
        "print(classification_report(y_test5050, y_pred5050dt))"
      ],
      "metadata": {
        "colab": {
          "base_uri": "https://localhost:8080/"
        },
        "outputId": "9c625cd8-7d45-4fbf-f424-0f5d9ffa78c7",
        "id": "BASP0lDcWr-O"
      },
      "execution_count": null,
      "outputs": [
        {
          "output_type": "stream",
          "name": "stdout",
          "text": [
            "              precision    recall  f1-score   support\n",
            "\n",
            "         0.0       0.61      0.63      0.62       794\n",
            "         1.0       0.65      0.63      0.64       860\n",
            "\n",
            "    accuracy                           0.63      1654\n",
            "   macro avg       0.63      0.63      0.63      1654\n",
            "weighted avg       0.63      0.63      0.63      1654\n",
            "\n"
          ]
        }
      ]
    },
    {
      "cell_type": "markdown",
      "source": [
        "### Random Forest"
      ],
      "metadata": {
        "id": "0XO09F9-Wr-O"
      }
    },
    {
      "cell_type": "code",
      "source": [
        "from sklearn.ensemble import RandomForestClassifier"
      ],
      "metadata": {
        "id": "zbxHDUtHWr-O"
      },
      "execution_count": null,
      "outputs": []
    },
    {
      "cell_type": "code",
      "source": [
        "# treinamento do modelo pelo algoritmo random forest\n",
        "rfc = RandomForestClassifier()\n",
        "rfc.fit(x_train5050, y_train5050)"
      ],
      "metadata": {
        "colab": {
          "base_uri": "https://localhost:8080/"
        },
        "outputId": "b1d8c5ce-54ad-495b-8dcb-1cc0722768cd",
        "id": "St4GXO9OWr-O"
      },
      "execution_count": null,
      "outputs": [
        {
          "output_type": "execute_result",
          "data": {
            "text/plain": [
              "RandomForestClassifier()"
            ]
          },
          "metadata": {},
          "execution_count": 94
        }
      ]
    },
    {
      "cell_type": "code",
      "source": [
        "# teste com o modelo\n",
        "y_pred5050rf=rfc.predict(x_test5050)"
      ],
      "metadata": {
        "id": "sUbQcGIvWr-P"
      },
      "execution_count": null,
      "outputs": []
    },
    {
      "cell_type": "code",
      "source": [
        "# Avaliação \n",
        "from sklearn.metrics import accuracy_score\n",
        "import matplotlib.pyplot as plt\n",
        "from sklearn.metrics import plot_confusion_matrix\n",
        "from sklearn.metrics import classification_report"
      ],
      "metadata": {
        "id": "6hTW-ed3Wr-P"
      },
      "execution_count": null,
      "outputs": []
    },
    {
      "cell_type": "code",
      "source": [
        "# Aplicação da matriz de confusão\n",
        "_ = plot_confusion_matrix(rfc, x_test5050, y_test5050, cmap='Blues')"
      ],
      "metadata": {
        "colab": {
          "base_uri": "https://localhost:8080/"
        },
        "outputId": "14c61865-e99c-4963-c7d2-cd41fc1a60e3",
        "id": "39JgVcQDWr-P"
      },
      "execution_count": null,
      "outputs": [
        {
          "output_type": "display_data",
          "data": {
            "text/plain": [
              "<Figure size 432x288 with 2 Axes>"
            ],
            "image/png": "[encoded data removed]"
          },
          "metadata": {
            "needs_background": "light"
          }
        }
      ]
    },
    {
      "cell_type": "code",
      "source": [
        "# Aplicação de todas as métricas\n",
        "print(classification_report(y_test5050, y_pred5050rf))"
      ],
      "metadata": {
        "colab": {
          "base_uri": "https://localhost:8080/"
        },
        "outputId": "2b82f3b1-ec27-4452-96be-049370cf4b54",
        "id": "vp46F4KrWr-P"
      },
      "execution_count": null,
      "outputs": [
        {
          "output_type": "stream",
          "name": "stdout",
          "text": [
            "              precision    recall  f1-score   support\n",
            "\n",
            "         0.0       0.65      0.77      0.71       794\n",
            "         1.0       0.74      0.62      0.68       860\n",
            "\n",
            "    accuracy                           0.69      1654\n",
            "   macro avg       0.70      0.70      0.69      1654\n",
            "weighted avg       0.70      0.69      0.69      1654\n",
            "\n"
          ]
        }
      ]
    },
    {
      "cell_type": "markdown",
      "source": [
        "### ROC curva (30-70)"
      ],
      "metadata": {
        "id": "0UYXiqQ5Wr-P"
      }
    },
    {
      "cell_type": "code",
      "source": [
        "from sklearn.metrics import roc_curve"
      ],
      "metadata": {
        "id": "ZKyHNbMlWr-P"
      },
      "execution_count": null,
      "outputs": []
    },
    {
      "cell_type": "code",
      "source": [
        "clf_fpr, clf_tpr, _ = roc_curve(y_test5050, y_pred5050dt) #decision tree\n",
        "rf_fpr, rf_tpr, _ = roc_curve(y_test5050, y_pred5050rf) #random forest\n",
        "gb_fpr, gb_tpr, _ = roc_curve(y_test5050, y_pred5050gb) #gradient boost"
      ],
      "metadata": {
        "id": "OETEto9BWr-P"
      },
      "execution_count": null,
      "outputs": []
    },
    {
      "cell_type": "code",
      "source": [
        "plt.plot(clf_fpr, clf_tpr, linestyle='--', marker='.', label='DecisionTree')\n",
        "plt.plot(rf_fpr, rf_tpr, linestyle='--', marker='.', label='Random Forest')\n",
        "plt.plot(gb_fpr, gb_tpr, linestyle='-', marker='.', label='Gradient Boosting')\n",
        "\n",
        "# Title\n",
        "plt.title('ROC Plot')\n",
        "# Axis labels\n",
        "plt.xlabel('False Positive Rate')\n",
        "plt.ylabel('True Positive Rate')\n",
        "# Show legend\n",
        "plt.legend() # \n",
        "# Show plot\n",
        "plt.show()"
      ],
      "metadata": {
        "colab": {
          "base_uri": "https://localhost:8080/"
        },
        "outputId": "eda6ae75-0389-4b64-ddc1-268a7af7edf8",
        "id": "QPb__vb-Wr-P"
      },
      "execution_count": null,
      "outputs": [
        {
          "output_type": "display_data",
          "data": {
            "text/plain": [
              "<Figure size 432x288 with 1 Axes>"
            ],
            "image/png": "[encoded data removed]"
          },
          "metadata": {
            "needs_background": "light"
          }
        }
      ]
    },
    {
      "cell_type": "markdown",
      "source": [
        "## Modelo escolhido e avaliação:\n",
        "\n",
        " \n",
        " Após execução dos testes e validação das hipóteses, a random forest é a que maior apresenta precisão na predição dos valores mas o recall ainda está muito baixo, o que nos deixa com a meta de na próxima sprint melhorar esse recall para melhoria da nossa predição. \n",
        "\n",
        "\n",
        "**Matriz de confusão do random forest 30/70:**\n",
        "\n",
        "\n",
        "![image.png](data:image/png;base64,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)"
      ],
      "metadata": {
        "id": "dukLTXXRnKmL"
      }
    }
  ]
}