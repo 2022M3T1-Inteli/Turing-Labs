{
  "nbformat": 4,
  "nbformat_minor": 0,
  "metadata": {
    "colab": {
      "provenance": [],
      "collapsed_sections": [
        "NjU3dXTZ0d4e",
        "dukLTXXRnKmL"
      ]
    },
    "kernelspec": {
      "name": "python3",
      "display_name": "Python 3"
    },
    "language_info": {
      "name": "python"
    }
  },
  "cells": [
    {
      "cell_type": "markdown",
      "source": [
        "# Carregamento e leitura da tabela"
      ],
      "metadata": {
        "id": "2etRTQpjbjoQ"
      }
    },
    {
      "cell_type": "code",
      "source": [
        "from google.colab import drive\n",
        "drive.mount('/content/drive')"
      ],
      "metadata": {
        "colab": {
          "base_uri": "https://localhost:8080/"
        },
        "id": "sYc9DcyJDwwP",
        "outputId": "073eec5b-d31e-45dd-b628-97685daa945e"
      },
      "execution_count": null,
      "outputs": [
        {
          "output_type": "stream",
          "name": "stdout",
          "text": [
            "Mounted at /content/drive\n"
          ]
        }
      ]
    },
    {
      "cell_type": "markdown",
      "source": [
        "   Seção que irá ocorrer o download da tabela, visto que o contéudo está no drive. Além de haver a leitura de um arquivo csv e haver o armazenamento."
      ],
      "metadata": {
        "id": "8EOmEaeGcz0y"
      }
    },
    {
      "cell_type": "code",
      "execution_count": null,
      "metadata": {
        "id": "sfXRWzFgmU7G"
      },
      "outputs": [],
      "source": [
        "# Baixando\n",
        "!pip install -U -q PyDrive"
      ]
    },
    {
      "cell_type": "code",
      "source": [
        "# Importando bibliotecas\n",
        "import pandas as pd\n",
        "from pydrive.auth import GoogleAuth\n",
        "from pydrive.drive import GoogleDrive\n",
        "from google.colab import auth\n",
        "from oauth2client.client import GoogleCredentials\n",
        "from google_drive_downloader import GoogleDriveDownloader as gdd\n",
        "import warnings\n",
        "warnings.filterwarnings('ignore')"
      ],
      "metadata": {
        "id": "RIs1rhry4iMC"
      },
      "execution_count": null,
      "outputs": []
    },
    {
      "cell_type": "code",
      "source": [
        "# Autenticando para entrar no drive\n",
        "# auth.authenticate_user()\n",
        "# gauth = GoogleAuth()\n",
        "# gauth.credentials = GoogleCredentials.get_application_default()\n",
        "# drive = GoogleDrive(gauth)"
      ],
      "metadata": {
        "id": "Y_ta8Noc6-71"
      },
      "execution_count": null,
      "outputs": []
    },
    {
      "cell_type": "code",
      "source": [
        "# # Baixando o arquivo de metadados de safra artificial 1\n",
        "# downloaded = drive.CreateFile({'id': '1_H-xSrnVmZ4Lx7td_K-f2yyCILwqbTfL'}) \n",
        "# downloaded.GetContentFile('SafraArtificial1.csv')\n",
        "# print(downloaded['title'], downloaded['mimeType'])\n",
        "\n",
        "# # Baixando o arquivo de metadados de safra artificial 2\n",
        "# downloaded = drive.CreateFile({'id': '1T2_WkGYVeYT-2ekRX157GCxfwnBpMrLX'})\n",
        "# downloaded.GetContentFile('SafraArtificial2.csv')\n",
        "# print(downloaded['title'], downloaded['mimeType'])"
      ],
      "metadata": {
        "id": "ovNTt6pv7MOi"
      },
      "execution_count": null,
      "outputs": []
    },
    {
      "cell_type": "code",
      "source": [
        "# Lendo os dados do arquivo de safra artificial 1 30/70\n",
        "data_safra_artificial_1 = pd.read_csv('/content/drive/Shareddrives/Turing_Labs/csvs/novos_testes/SafraArtificial1-3070.csv')"
      ],
      "metadata": {
        "id": "EeGC8hDZ4oPr"
      },
      "execution_count": null,
      "outputs": []
    },
    {
      "cell_type": "code",
      "source": [
        "# Lendo os dados do arquivo de safra artificial 2 40/60\n",
        "data_safra_artificial_2 = pd.read_csv('/content/drive/Shareddrives/Turing_Labs/csvs/novos_testes/SafraArtificial2-4060.csv')"
      ],
      "metadata": {
        "id": "1hpUTfNxRFJi"
      },
      "execution_count": null,
      "outputs": []
    },
    {
      "cell_type": "code",
      "source": [
        "# Lendo os dados do arquivo de safra artificial 3 60/40\n",
        "data_safra_artificial_3 = pd.read_csv('/content/drive/Shareddrives/Turing_Labs/csvs/novos_testes/SafraArtificial3-6040.csv')"
      ],
      "metadata": {
        "id": "nkKNDYI-UkP6"
      },
      "execution_count": null,
      "outputs": []
    },
    {
      "cell_type": "markdown",
      "source": [
        "# Modelos - Classificação\n",
        "\n",
        "\n"
      ],
      "metadata": {
        "id": "at8FLrHooKEr"
      }
    },
    {
      "cell_type": "markdown",
      "source": [
        "##Algoritmos usados:\n",
        "\n",
        "###**Gradient Boost**\n",
        "\n",
        "  Algortimo de classficação, é escalável, flexível e contém um ótimo nível de eficiência. Ademais, proporciona árvores boosting paralelas.\n",
        "\n",
        "###**Árvore de decisão**\n",
        "\n",
        "Algoritmo de classificação, separa grupos de dados conforme acontece as desições na árvore durante os seus nós, e dependendendo da quantidade níveis acontece a quantidade de decisões.\n",
        "\n",
        "###**Random Forest**\n",
        "\n",
        "Algoritmo de classificação, que **seleciona uma amostra de dados do conjunto de treinamento** e  **n variáveis aleatórias** em que estas serão submetidas a cálculos para a criação de um novo nó, e nesse nó o processo dito se repete.\n",
        "\n",
        "##Pergunta a responder:\n",
        "\n",
        "\n",
        "Quem não possui atritos com o banco?\n",
        "\n",
        "\n",
        "##Métricas usadas:\n",
        "\n",
        "Precisão, Revocação, F1-Score e Acurácia."
      ],
      "metadata": {
        "id": "NjU3dXTZ0d4e"
      }
    },
    {
      "cell_type": "markdown",
      "source": [
        "## Modelo com proporção de 30/70 para treinamento"
      ],
      "metadata": {
        "id": "SaLmu6fK1X-C"
      }
    },
    {
      "cell_type": "code",
      "source": [
        "from sklearn.model_selection import train_test_split"
      ],
      "metadata": {
        "id": "YMMBzQ4w-0Tl"
      },
      "execution_count": null,
      "outputs": []
    },
    {
      "cell_type": "code",
      "source": [
        "# Dropa a coluna de target\n",
        "x = data_safra_artificial_1.drop(['ind_atrito'], axis = 1)\n",
        "y = data_safra_artificial_1['ind_atrito']\n",
        "# Separa o conjunto teste do de treinamento e o de treinamento recebe 70% dos dados\n",
        "x_train3070, x_test3070, y_train3070, y_test3070 = train_test_split(x, y,\n",
        "                                                    test_size = 0.3,\n",
        "                                                    random_state = 42)"
      ],
      "metadata": {
        "id": "CcIJd8tQ_B_G"
      },
      "execution_count": null,
      "outputs": []
    },
    {
      "cell_type": "markdown",
      "source": [
        "### Gradient Boost"
      ],
      "metadata": {
        "id": "0TgcyXov1jsn"
      }
    },
    {
      "cell_type": "code",
      "source": [
        "from sklearn.ensemble import GradientBoostingClassifier"
      ],
      "metadata": {
        "id": "hvemMMzZ93Kl"
      },
      "execution_count": null,
      "outputs": []
    },
    {
      "cell_type": "code",
      "source": [
        "# Variável que será utilizada para pegar apenas partes da amostra aos poucos para o treinamento do modelo\n",
        "lr_list = [0.05, 0.075, 0.1, 0.25, 0.5, 0.75, 1]\n",
        "\n",
        "# Loop que passa por todas as proporções do conjunto de treinamento para o treinamento do modelo\n",
        "for learning_rate in lr_list:\n",
        "    gb_clf = GradientBoostingClassifier(n_estimators=20, learning_rate=learning_rate, max_features=2, max_depth=2, random_state=0)\n",
        "    gb_clf.fit(x_train3070, y_train3070)\n",
        "\n",
        "    print(\"Learning rate: \", learning_rate)\n",
        "    print(\"Accuracy score (training): {0:.3f}\".format(gb_clf.score(x_train3070, y_train3070)))\n",
        "    print(\"Accuracy score (validation): {0:.3f}\".format(gb_clf.score(x_test3070, y_test3070)))"
      ],
      "metadata": {
        "colab": {
          "base_uri": "https://localhost:8080/"
        },
        "id": "GiLZ57vD99mv",
        "outputId": "ecce4d00-5929-41f2-d0e6-10a85cd3dc15"
      },
      "execution_count": null,
      "outputs": [
        {
          "output_type": "stream",
          "name": "stdout",
          "text": [
            "Learning rate:  0.05\n",
            "Accuracy score (training): 0.760\n",
            "Accuracy score (validation): 0.756\n",
            "Learning rate:  0.075\n",
            "Accuracy score (training): 0.780\n",
            "Accuracy score (validation): 0.772\n",
            "Learning rate:  0.1\n",
            "Accuracy score (training): 0.785\n",
            "Accuracy score (validation): 0.781\n",
            "Learning rate:  0.25\n",
            "Accuracy score (training): 0.787\n",
            "Accuracy score (validation): 0.785\n",
            "Learning rate:  0.5\n",
            "Accuracy score (training): 0.789\n",
            "Accuracy score (validation): 0.785\n",
            "Learning rate:  0.75\n",
            "Accuracy score (training): 0.791\n",
            "Accuracy score (validation): 0.785\n",
            "Learning rate:  1\n",
            "Accuracy score (training): 0.794\n",
            "Accuracy score (validation): 0.780\n"
          ]
        }
      ]
    },
    {
      "cell_type": "code",
      "source": [
        "# Teste do modelo\n",
        "y_pred3070gb = gb_clf.predict(x_test3070)"
      ],
      "metadata": {
        "id": "ihQrtxNmT1me"
      },
      "execution_count": null,
      "outputs": []
    },
    {
      "cell_type": "code",
      "source": [
        "# Avaliação\n",
        "import matplotlib.pyplot as plt\n",
        "from sklearn.metrics import plot_confusion_matrix\n",
        "from sklearn.metrics import classification_report"
      ],
      "metadata": {
        "id": "LAaQcQc3T2n5"
      },
      "execution_count": null,
      "outputs": []
    },
    {
      "cell_type": "code",
      "source": [
        "# Aplicação da matriz de confusão\n",
        "_ = plot_confusion_matrix(gb_clf, x_test3070, y_test3070, cmap='Blues')"
      ],
      "metadata": {
        "id": "Qn_abO6UT74V",
        "colab": {
          "base_uri": "https://localhost:8080/",
          "height": 279
        },
        "outputId": "09f19915-2c8a-42ce-96c3-46b0a5050725"
      },
      "execution_count": null,
      "outputs": [
        {
          "output_type": "display_data",
          "data": {
            "text/plain": [
              "<Figure size 432x288 with 2 Axes>"
            ],
            "image/png": "[encoded data removed]"
          },
          "metadata": {
            "needs_background": "light"
          }
        }
      ]
    },
    {
      "cell_type": "code",
      "source": [
        "#Aplicação de todas as métricas\n",
        "print(classification_report(y_test3070, y_pred3070gb))"
      ],
      "metadata": {
        "colab": {
          "base_uri": "https://localhost:8080/"
        },
        "id": "5cGaCFx1cy9L",
        "outputId": "5154eb4c-c46a-4243-8466-70aefe8f03e3"
      },
      "execution_count": null,
      "outputs": [
        {
          "output_type": "stream",
          "name": "stdout",
          "text": [
            "              precision    recall  f1-score   support\n",
            "\n",
            "         0.0       0.76      0.98      0.86      1806\n",
            "         1.0       0.91      0.34      0.50       840\n",
            "\n",
            "    accuracy                           0.78      2646\n",
            "   macro avg       0.83      0.66      0.68      2646\n",
            "weighted avg       0.81      0.78      0.74      2646\n",
            "\n"
          ]
        }
      ]
    },
    {
      "cell_type": "markdown",
      "source": [
        "### Árvore de decisão"
      ],
      "metadata": {
        "id": "fpWCwvXb1oDm"
      }
    },
    {
      "cell_type": "code",
      "source": [
        "from sklearn import tree\n",
        "from sklearn.tree import DecisionTreeClassifier"
      ],
      "metadata": {
        "id": "vW7mEbo4-E6f"
      },
      "execution_count": null,
      "outputs": []
    },
    {
      "cell_type": "code",
      "source": [
        "# treinamento do modelo pelo algoritmo da árvore de decisão\n",
        "clf = tree.DecisionTreeClassifier()\n",
        "clf = clf.fit(x_train3070, y_train3070)"
      ],
      "metadata": {
        "id": "17pUsj9u-Kbd"
      },
      "execution_count": null,
      "outputs": []
    },
    {
      "cell_type": "code",
      "source": [
        "# teste com o modelo\n",
        "y_pred3070dt = clf.predict(x_test3070)"
      ],
      "metadata": {
        "id": "MTs_jHpJULPX"
      },
      "execution_count": null,
      "outputs": []
    },
    {
      "cell_type": "code",
      "source": [
        "# Avaliação \n",
        "from sklearn.metrics import accuracy_score\n",
        "import matplotlib.pyplot as plt\n",
        "from sklearn.metrics import plot_confusion_matrix\n",
        "from sklearn.metrics import classification_report"
      ],
      "metadata": {
        "id": "Q5VuyuYxUMMy"
      },
      "execution_count": null,
      "outputs": []
    },
    {
      "cell_type": "code",
      "source": [
        "# Aplicação da matriz de confusão\n",
        "_ = plot_confusion_matrix(clf, x_test3070, y_test3070, cmap='Blues')"
      ],
      "metadata": {
        "id": "4vvPV9vVUPY4",
        "colab": {
          "base_uri": "https://localhost:8080/",
          "height": 279
        },
        "outputId": "73320f9f-0e55-4867-b948-5977e5e5cead"
      },
      "execution_count": null,
      "outputs": [
        {
          "output_type": "display_data",
          "data": {
            "text/plain": [
              "<Figure size 432x288 with 2 Axes>"
            ],
            "image/png": "[encoded data removed]"
          },
          "metadata": {
            "needs_background": "light"
          }
        }
      ]
    },
    {
      "cell_type": "code",
      "source": [
        "# Aplicação de todas as métricas\n",
        "print(classification_report(y_test3070, y_pred3070dt))"
      ],
      "metadata": {
        "colab": {
          "base_uri": "https://localhost:8080/"
        },
        "id": "qT74RI8Jju3Y",
        "outputId": "f71fa73d-b08e-4aa5-d475-6d5cffcd5a72"
      },
      "execution_count": null,
      "outputs": [
        {
          "output_type": "stream",
          "name": "stdout",
          "text": [
            "              precision    recall  f1-score   support\n",
            "\n",
            "         0.0       0.78      0.76      0.77      1806\n",
            "         1.0       0.51      0.53      0.52       840\n",
            "\n",
            "    accuracy                           0.69      2646\n",
            "   macro avg       0.64      0.65      0.64      2646\n",
            "weighted avg       0.69      0.69      0.69      2646\n",
            "\n"
          ]
        }
      ]
    },
    {
      "cell_type": "markdown",
      "source": [
        "### Random Forest"
      ],
      "metadata": {
        "id": "AdrnzcoQ71Vn"
      }
    },
    {
      "cell_type": "code",
      "source": [
        "from sklearn.ensemble import RandomForestClassifier"
      ],
      "metadata": {
        "id": "mQk21X5o-O8l"
      },
      "execution_count": null,
      "outputs": []
    },
    {
      "cell_type": "code",
      "source": [
        "# treinamento do modelo pelo algoritmo random forest\n",
        "rfc = RandomForestClassifier()\n",
        "rfc.fit(x_train3070, y_train3070)"
      ],
      "metadata": {
        "id": "zrwdjB70-Ya0",
        "colab": {
          "base_uri": "https://localhost:8080/"
        },
        "outputId": "5d5689b1-7275-4963-ab08-bf6de282298e"
      },
      "execution_count": null,
      "outputs": [
        {
          "output_type": "execute_result",
          "data": {
            "text/plain": [
              "RandomForestClassifier()"
            ]
          },
          "metadata": {},
          "execution_count": 24
        }
      ]
    },
    {
      "cell_type": "code",
      "source": [
        "# teste com o modelo\n",
        "y_pred3070rf=rfc.predict(x_test3070)"
      ],
      "metadata": {
        "id": "uKMg0RACUorU"
      },
      "execution_count": null,
      "outputs": []
    },
    {
      "cell_type": "code",
      "source": [
        "# Avaliação \n",
        "from sklearn.metrics import accuracy_score\n",
        "import matplotlib.pyplot as plt\n",
        "from sklearn.metrics import plot_confusion_matrix\n",
        "from sklearn.metrics import classification_report"
      ],
      "metadata": {
        "id": "p3T6nABZUpMC"
      },
      "execution_count": null,
      "outputs": []
    },
    {
      "cell_type": "code",
      "source": [
        "# Aplicação da matriz de confusão\n",
        "_ = plot_confusion_matrix(rfc, x_test3070, y_test3070, cmap='Blues')"
      ],
      "metadata": {
        "id": "0cXPvueeUvwA",
        "colab": {
          "base_uri": "https://localhost:8080/",
          "height": 279
        },
        "outputId": "82d1690f-4fb0-42ec-83ed-6c0d3fbe89be"
      },
      "execution_count": null,
      "outputs": [
        {
          "output_type": "display_data",
          "data": {
            "text/plain": [
              "<Figure size 432x288 with 2 Axes>"
            ],
            "image/png": "[encoded data removed]"
          },
          "metadata": {
            "needs_background": "light"
          }
        }
      ]
    },
    {
      "cell_type": "code",
      "source": [
        "# Aplicação de todas as métricas\n",
        "print(classification_report(y_test3070, y_pred3070rf))"
      ],
      "metadata": {
        "colab": {
          "base_uri": "https://localhost:8080/"
        },
        "id": "glZ6iOAKa4Zo",
        "outputId": "a121c2f8-e9c6-483f-8ad4-b304af1ef04a"
      },
      "execution_count": null,
      "outputs": [
        {
          "output_type": "stream",
          "name": "stdout",
          "text": [
            "              precision    recall  f1-score   support\n",
            "\n",
            "         0.0       0.78      0.94      0.86      1806\n",
            "         1.0       0.78      0.43      0.56       840\n",
            "\n",
            "    accuracy                           0.78      2646\n",
            "   macro avg       0.78      0.69      0.71      2646\n",
            "weighted avg       0.78      0.78      0.76      2646\n",
            "\n"
          ]
        }
      ]
    },
    {
      "cell_type": "markdown",
      "source": [
        "## Modelo com proporção de 40/60 "
      ],
      "metadata": {
        "id": "y240PB6ZxT3G"
      }
    },
    {
      "cell_type": "code",
      "source": [
        "from sklearn.model_selection import train_test_split"
      ],
      "metadata": {
        "id": "9EknS4Sd3zkY"
      },
      "execution_count": null,
      "outputs": []
    },
    {
      "cell_type": "code",
      "source": [
        "# Dropa a coluna de target\n",
        "x = data_safra_artificial_2.drop(['ind_atrito'], axis = 1)\n",
        "y = data_safra_artificial_2['ind_atrito']\n",
        "\n",
        "# Separa o conjunto teste do de treinamento e o de treinamento recebe 60% dos dados\n",
        "x_train4060, x_test4060, y_train4060, y_test4060 = train_test_split(x, y,\n",
        "                                                    test_size = 0.4,\n",
        "                                                    random_state = 42)\n"
      ],
      "metadata": {
        "id": "v9F68z3n4KBt"
      },
      "execution_count": null,
      "outputs": []
    },
    {
      "cell_type": "markdown",
      "source": [
        "### Gradient Boost"
      ],
      "metadata": {
        "id": "nOusSGKm0rYi"
      }
    },
    {
      "cell_type": "code",
      "source": [
        "from sklearn.ensemble import GradientBoostingClassifier"
      ],
      "metadata": {
        "id": "5D2ppqB98Eje"
      },
      "execution_count": null,
      "outputs": []
    },
    {
      "cell_type": "code",
      "source": [
        "# Variável que será utilizada para pegar apenas partes da amostra aos poucos para o treinamento do modelo\n",
        "lr_list = [0.05, 0.075, 0.1, 0.25, 0.5, 0.75, 1]\n",
        "\n",
        "# Loop que passa por todas as proporções do conjunto de treinamento para o treinamento do modelo\n",
        "for learning_rate in lr_list:\n",
        "    gb_clf = GradientBoostingClassifier(n_estimators=20, learning_rate=learning_rate, max_features=2, max_depth=2, random_state=0)\n",
        "    gb_clf.fit(x_train4060, y_train4060)\n",
        "\n",
        "    print(\"Learning rate: \", learning_rate)\n",
        "    print(\"Accuracy score (training): {0:.3f}\".format(gb_clf.score(x_train4060, y_train4060)))\n",
        "    print(\"Accuracy score (validation): {0:.3f}\".format(gb_clf.score(x_test4060, y_test4060)))"
      ],
      "metadata": {
        "colab": {
          "base_uri": "https://localhost:8080/"
        },
        "id": "C8iamtnn4r4E",
        "outputId": "51677b2e-3b74-4f75-b5b4-6c38da425489"
      },
      "execution_count": null,
      "outputs": [
        {
          "output_type": "stream",
          "name": "stdout",
          "text": [
            "Learning rate:  0.05\n",
            "Accuracy score (training): 0.719\n",
            "Accuracy score (validation): 0.701\n",
            "Learning rate:  0.075\n",
            "Accuracy score (training): 0.723\n",
            "Accuracy score (validation): 0.708\n",
            "Learning rate:  0.1\n",
            "Accuracy score (training): 0.726\n",
            "Accuracy score (validation): 0.713\n",
            "Learning rate:  0.25\n",
            "Accuracy score (training): 0.734\n",
            "Accuracy score (validation): 0.719\n",
            "Learning rate:  0.5\n",
            "Accuracy score (training): 0.743\n",
            "Accuracy score (validation): 0.721\n",
            "Learning rate:  0.75\n",
            "Accuracy score (training): 0.746\n",
            "Accuracy score (validation): 0.718\n",
            "Learning rate:  1\n",
            "Accuracy score (training): 0.740\n",
            "Accuracy score (validation): 0.720\n"
          ]
        }
      ]
    },
    {
      "cell_type": "code",
      "source": [
        "# Teste do modelo\n",
        "y_pred4060gb = gb_clf.predict(x_test4060)"
      ],
      "metadata": {
        "id": "7Xy6TGXgSL_2"
      },
      "execution_count": null,
      "outputs": []
    },
    {
      "cell_type": "code",
      "source": [
        "# Avaliação\n",
        "import matplotlib.pyplot as plt\n",
        "from sklearn.metrics import plot_confusion_matrix\n",
        "from sklearn.metrics import classification_report"
      ],
      "metadata": {
        "id": "pu1n-xCCS3g8"
      },
      "execution_count": null,
      "outputs": []
    },
    {
      "cell_type": "code",
      "source": [
        "# Aplicação da matriz de confusão\n",
        "_ = plot_confusion_matrix(gb_clf, x_test4060, y_test4060, cmap='Blues')"
      ],
      "metadata": {
        "id": "7Fr7uvGgTTCs",
        "colab": {
          "base_uri": "https://localhost:8080/",
          "height": 279
        },
        "outputId": "c8d00866-ca57-4fbd-d2ea-eada5d48ee33"
      },
      "execution_count": null,
      "outputs": [
        {
          "output_type": "display_data",
          "data": {
            "text/plain": [
              "<Figure size 432x288 with 2 Axes>"
            ],
            "image/png": "[encoded data removed]"
          },
          "metadata": {
            "needs_background": "light"
          }
        }
      ]
    },
    {
      "cell_type": "code",
      "source": [
        "#Aplicação de todas as métricas\n",
        "print(classification_report(y_test4060, y_pred4060gb))"
      ],
      "metadata": {
        "colab": {
          "base_uri": "https://localhost:8080/"
        },
        "id": "YZtCXDlTJnxa",
        "outputId": "03745f7d-144f-4031-b3ac-123ba8da0e54"
      },
      "execution_count": null,
      "outputs": [
        {
          "output_type": "stream",
          "name": "stdout",
          "text": [
            "              precision    recall  f1-score   support\n",
            "\n",
            "         0.0       0.70      0.91      0.79      1532\n",
            "         1.0       0.80      0.46      0.58      1130\n",
            "\n",
            "    accuracy                           0.72      2662\n",
            "   macro avg       0.75      0.69      0.69      2662\n",
            "weighted avg       0.74      0.72      0.70      2662\n",
            "\n"
          ]
        }
      ]
    },
    {
      "cell_type": "markdown",
      "source": [
        "### Árvore de decisão"
      ],
      "metadata": {
        "id": "AmQ0g6Ko1Eqv"
      }
    },
    {
      "cell_type": "code",
      "source": [
        "from sklearn import tree\n",
        "from sklearn.tree import DecisionTreeClassifier"
      ],
      "metadata": {
        "id": "KFWsHxRe8Wwa"
      },
      "execution_count": null,
      "outputs": []
    },
    {
      "cell_type": "code",
      "source": [
        "# treinamento do modelo pelo algoritmo da árvore de decisão\n",
        "clf = tree.DecisionTreeClassifier()\n",
        "clf = clf.fit(x_train4060, y_train4060)"
      ],
      "metadata": {
        "id": "xkapM8S_8lXn"
      },
      "execution_count": null,
      "outputs": []
    },
    {
      "cell_type": "code",
      "source": [
        "# teste com o modelo\n",
        "y_pred4060dt = clf.predict(x_test4060)"
      ],
      "metadata": {
        "id": "NRvTXsPBQ0bC"
      },
      "execution_count": null,
      "outputs": []
    },
    {
      "cell_type": "code",
      "source": [
        "# Avaliação \n",
        "from sklearn.metrics import accuracy_score\n",
        "import matplotlib.pyplot as plt\n",
        "from sklearn.metrics import plot_confusion_matrix\n",
        "from sklearn.metrics import classification_report"
      ],
      "metadata": {
        "id": "clAXAILUQ9V7"
      },
      "execution_count": null,
      "outputs": []
    },
    {
      "cell_type": "code",
      "source": [
        "# Aplicação da matriz de confusão\n",
        "_ = plot_confusion_matrix(clf, x_test4060, y_test4060, cmap='Blues')"
      ],
      "metadata": {
        "id": "qEM_iYoRRHFS",
        "colab": {
          "base_uri": "https://localhost:8080/",
          "height": 279
        },
        "outputId": "f9a6f759-ecbd-4241-adfb-89d9c964f88d"
      },
      "execution_count": null,
      "outputs": [
        {
          "output_type": "display_data",
          "data": {
            "text/plain": [
              "<Figure size 432x288 with 2 Axes>"
            ],
            "image/png": "[encoded data removed]"
          },
          "metadata": {
            "needs_background": "light"
          }
        }
      ]
    },
    {
      "cell_type": "code",
      "source": [
        "# Aplicação de todas as métricas\n",
        "print(classification_report(y_test4060, y_pred4060dt))"
      ],
      "metadata": {
        "colab": {
          "base_uri": "https://localhost:8080/"
        },
        "id": "yMoVrLicis8t",
        "outputId": "5741815c-1fe1-4043-b192-8c201c998ad3"
      },
      "execution_count": null,
      "outputs": [
        {
          "output_type": "stream",
          "name": "stdout",
          "text": [
            "              precision    recall  f1-score   support\n",
            "\n",
            "         0.0       0.70      0.72      0.71      1532\n",
            "         1.0       0.60      0.58      0.59      1130\n",
            "\n",
            "    accuracy                           0.66      2662\n",
            "   macro avg       0.65      0.65      0.65      2662\n",
            "weighted avg       0.66      0.66      0.66      2662\n",
            "\n"
          ]
        }
      ]
    },
    {
      "cell_type": "markdown",
      "source": [
        "### Random Forest"
      ],
      "metadata": {
        "id": "Yt9meBZv1NCz"
      }
    },
    {
      "cell_type": "code",
      "source": [
        "from sklearn.ensemble import RandomForestClassifier"
      ],
      "metadata": {
        "id": "h6Czzqhl8wH5"
      },
      "execution_count": null,
      "outputs": []
    },
    {
      "cell_type": "code",
      "source": [
        "# treinamento do modelo pelo algoritmo random forest\n",
        "rfc = RandomForestClassifier()\n",
        "rfc.fit(x_train4060, y_train4060)"
      ],
      "metadata": {
        "colab": {
          "base_uri": "https://localhost:8080/"
        },
        "id": "B-vdGG229l4U",
        "outputId": "1b1b313d-cb53-46a4-ab95-a0670ad0abbe"
      },
      "execution_count": null,
      "outputs": [
        {
          "output_type": "execute_result",
          "data": {
            "text/plain": [
              "RandomForestClassifier()"
            ]
          },
          "metadata": {},
          "execution_count": 44
        }
      ]
    },
    {
      "cell_type": "code",
      "source": [
        "# teste com o modelo\n",
        "y_pred4060rf=rfc.predict(x_test4060)"
      ],
      "metadata": {
        "id": "4EJyVPklN4u0"
      },
      "execution_count": null,
      "outputs": []
    },
    {
      "cell_type": "code",
      "source": [
        "# Avaliação \n",
        "from sklearn.metrics import accuracy_score\n",
        "import matplotlib.pyplot as plt\n",
        "from sklearn.metrics import plot_confusion_matrix\n",
        "from sklearn.metrics import classification_report"
      ],
      "metadata": {
        "id": "YmyRDXpJOk4X"
      },
      "execution_count": null,
      "outputs": []
    },
    {
      "cell_type": "code",
      "source": [
        "# Aplicação da matriz de confusão\n",
        "_ = plot_confusion_matrix(rfc, x_test4060, y_test4060, cmap='Blues')"
      ],
      "metadata": {
        "id": "22G5d21wPpR0",
        "colab": {
          "base_uri": "https://localhost:8080/",
          "height": 279
        },
        "outputId": "86e365d1-6219-43c8-8b93-f86e10750d25"
      },
      "execution_count": null,
      "outputs": [
        {
          "output_type": "display_data",
          "data": {
            "text/plain": [
              "<Figure size 432x288 with 2 Axes>"
            ],
            "image/png": "[encoded data removed]"
          },
          "metadata": {
            "needs_background": "light"
          }
        }
      ]
    },
    {
      "cell_type": "code",
      "source": [
        "# Aplicação de todas as métricas\n",
        "print(classification_report(y_test4060, y_pred4060rf))"
      ],
      "metadata": {
        "colab": {
          "base_uri": "https://localhost:8080/"
        },
        "id": "2dr_3AzVbttZ",
        "outputId": "80681a52-b218-4efc-b9fe-d453485548cc"
      },
      "execution_count": null,
      "outputs": [
        {
          "output_type": "stream",
          "name": "stdout",
          "text": [
            "              precision    recall  f1-score   support\n",
            "\n",
            "         0.0       0.71      0.88      0.79      1532\n",
            "         1.0       0.75      0.52      0.61      1130\n",
            "\n",
            "    accuracy                           0.72      2662\n",
            "   macro avg       0.73      0.70      0.70      2662\n",
            "weighted avg       0.73      0.72      0.71      2662\n",
            "\n"
          ]
        }
      ]
    },
    {
      "cell_type": "markdown",
      "source": [
        "## Modelo com proporção de 60/40 "
      ],
      "metadata": {
        "id": "ftishSDmVTI8"
      }
    },
    {
      "cell_type": "code",
      "source": [
        "from sklearn.model_selection import train_test_split"
      ],
      "metadata": {
        "id": "2BrUHnsGVTI9"
      },
      "execution_count": null,
      "outputs": []
    },
    {
      "cell_type": "code",
      "source": [
        "# Dropa a coluna de target\n",
        "x = data_safra_artificial_3.drop(['ind_atrito'], axis = 1)\n",
        "y = data_safra_artificial_3['ind_atrito']\n",
        "\n",
        "# Separa o conjunto teste do de treinamento e o de treinamento recebe 60% dos dados\n",
        "x_train6040, x_test6040, y_train6040, y_test6040 = train_test_split(x, y,\n",
        "                                                    test_size = 0.4,\n",
        "                                                    random_state = 42)\n"
      ],
      "metadata": {
        "id": "gmM-qGgVVTI9"
      },
      "execution_count": null,
      "outputs": []
    },
    {
      "cell_type": "markdown",
      "source": [
        "### Gradient Boost"
      ],
      "metadata": {
        "id": "ylbf0rfpVTI-"
      }
    },
    {
      "cell_type": "code",
      "source": [
        "from sklearn.ensemble import GradientBoostingClassifier"
      ],
      "metadata": {
        "id": "pv2E8eYZVTI-"
      },
      "execution_count": null,
      "outputs": []
    },
    {
      "cell_type": "code",
      "source": [
        "# Variável que será utilizada para pegar apenas partes da amostra aos poucos para o treinamento do modelo\n",
        "lr_list = [0.05, 0.075, 0.1, 0.25, 0.5, 0.75, 1]\n",
        "\n",
        "# Loop que passa por todas as proporções do conjunto de treinamento para o treinamento do modelo\n",
        "for learning_rate in lr_list:\n",
        "    gb_clf = GradientBoostingClassifier(n_estimators=20, learning_rate=learning_rate, max_features=2, max_depth=2, random_state=0)\n",
        "    gb_clf.fit(x_train6040, y_train6040)\n",
        "\n",
        "    print(\"Learning rate: \", learning_rate)\n",
        "    print(\"Accuracy score (training): {0:.3f}\".format(gb_clf.score(x_train6040, y_train6040)))\n",
        "    print(\"Accuracy score (validation): {0:.3f}\".format(gb_clf.score(x_test6040, y_test6040)))"
      ],
      "metadata": {
        "id": "XgGsKRUEVTI-"
      },
      "execution_count": null,
      "outputs": []
    },
    {
      "cell_type": "code",
      "source": [
        "# Teste do modelo\n",
        "y_pred6040gb = gb_clf.predict(x_test6040)"
      ],
      "metadata": {
        "id": "yMCaHt1BVTI_"
      },
      "execution_count": null,
      "outputs": []
    },
    {
      "cell_type": "code",
      "source": [
        "# Avaliação\n",
        "import matplotlib.pyplot as plt\n",
        "from sklearn.metrics import plot_confusion_matrix\n",
        "from sklearn.metrics import classification_report"
      ],
      "metadata": {
        "id": "SX9911t2VTJA"
      },
      "execution_count": null,
      "outputs": []
    },
    {
      "cell_type": "code",
      "source": [
        "# Aplicação da matriz de confusão\n",
        "_ = plot_confusion_matrix(gb_clf, x_test6040, y_test6040, cmap='Blues')"
      ],
      "metadata": {
        "colab": {
          "base_uri": "https://localhost:8080/",
          "height": 279
        },
        "outputId": "2f7643d2-cfb5-4ade-f000-c591a774b9ec",
        "id": "9So2LW4pVTJA"
      },
      "execution_count": null,
      "outputs": [
        {
          "output_type": "display_data",
          "data": {
            "text/plain": [
              "<Figure size 432x288 with 2 Axes>"
            ],
            "image/png": "[encoded data removed]"
          },
          "metadata": {
            "needs_background": "light"
          }
        }
      ]
    },
    {
      "cell_type": "code",
      "source": [
        "#Aplicação de todas as métricas\n",
        "print(classification_report(y_test6040, y_pred6040gb))"
      ],
      "metadata": {
        "colab": {
          "base_uri": "https://localhost:8080/"
        },
        "outputId": "8ce3fc91-8f7c-4897-a2c7-89ba1c1f43bf",
        "id": "dJXipQYDVTJA"
      },
      "execution_count": null,
      "outputs": [
        {
          "output_type": "stream",
          "name": "stdout",
          "text": [
            "              precision    recall  f1-score   support\n",
            "\n",
            "         0.0       0.59      0.62      0.60       691\n",
            "         1.0       0.76      0.74      0.75      1147\n",
            "\n",
            "    accuracy                           0.69      1838\n",
            "   macro avg       0.68      0.68      0.68      1838\n",
            "weighted avg       0.70      0.69      0.70      1838\n",
            "\n"
          ]
        }
      ]
    },
    {
      "cell_type": "markdown",
      "source": [
        "### Árvore de decisão"
      ],
      "metadata": {
        "id": "Q5OgdmkaVTJB"
      }
    },
    {
      "cell_type": "code",
      "source": [
        "from sklearn import tree\n",
        "from sklearn.tree import DecisionTreeClassifier"
      ],
      "metadata": {
        "id": "c9pecT33VTJB"
      },
      "execution_count": null,
      "outputs": []
    },
    {
      "cell_type": "code",
      "source": [
        "# treinamento do modelo pelo algoritmo da árvore de decisão\n",
        "clf = tree.DecisionTreeClassifier()\n",
        "clf = clf.fit(x_train6040, y_train6040)"
      ],
      "metadata": {
        "id": "zevzfuMYVTJC"
      },
      "execution_count": null,
      "outputs": []
    },
    {
      "cell_type": "code",
      "source": [
        "# teste com o modelo\n",
        "y_pred6040dt = clf.predict(x_test6040)"
      ],
      "metadata": {
        "id": "kICEJcyNVTJC"
      },
      "execution_count": null,
      "outputs": []
    },
    {
      "cell_type": "code",
      "source": [
        "# Avaliação \n",
        "from sklearn.metrics import accuracy_score\n",
        "import matplotlib.pyplot as plt\n",
        "from sklearn.metrics import plot_confusion_matrix\n",
        "from sklearn.metrics import classification_report"
      ],
      "metadata": {
        "id": "A4glb0YkVTJC"
      },
      "execution_count": null,
      "outputs": []
    },
    {
      "cell_type": "code",
      "source": [
        "# Aplicação da matriz de confusão\n",
        "_ = plot_confusion_matrix(clf, x_test6040, y_test6040, cmap='Blues')"
      ],
      "metadata": {
        "colab": {
          "base_uri": "https://localhost:8080/",
          "height": 279
        },
        "outputId": "57384408-1917-40fe-a076-e5ae069faf95",
        "id": "2ucBhohWVTJD"
      },
      "execution_count": null,
      "outputs": [
        {
          "output_type": "display_data",
          "data": {
            "text/plain": [
              "<Figure size 432x288 with 2 Axes>"
            ],
            "image/png": "[encoded data removed]"
          },
          "metadata": {
            "needs_background": "light"
          }
        }
      ]
    },
    {
      "cell_type": "code",
      "source": [
        "# Aplicação de todas as métricas\n",
        "print(classification_report(y_test6040, y_pred6040dt))"
      ],
      "metadata": {
        "colab": {
          "base_uri": "https://localhost:8080/"
        },
        "outputId": "138174cb-fe40-4fbe-c82e-d0303306f784",
        "id": "xwwj8A_qVTJD"
      },
      "execution_count": null,
      "outputs": [
        {
          "output_type": "stream",
          "name": "stdout",
          "text": [
            "              precision    recall  f1-score   support\n",
            "\n",
            "         0.0       0.52      0.57      0.55       691\n",
            "         1.0       0.73      0.68      0.70      1147\n",
            "\n",
            "    accuracy                           0.64      1838\n",
            "   macro avg       0.62      0.63      0.62      1838\n",
            "weighted avg       0.65      0.64      0.64      1838\n",
            "\n"
          ]
        }
      ]
    },
    {
      "cell_type": "markdown",
      "source": [
        "### Random Forest"
      ],
      "metadata": {
        "id": "eruc6qPNVTJE"
      }
    },
    {
      "cell_type": "code",
      "source": [
        "from sklearn.ensemble import RandomForestClassifier"
      ],
      "metadata": {
        "id": "t2XLsE-cVTJE"
      },
      "execution_count": null,
      "outputs": []
    },
    {
      "cell_type": "code",
      "source": [
        "# treinamento do modelo pelo algoritmo random forest\n",
        "rfc = RandomForestClassifier()\n",
        "rfc.fit(x_train6040, y_train6040)"
      ],
      "metadata": {
        "colab": {
          "base_uri": "https://localhost:8080/"
        },
        "outputId": "e5b17c55-1135-433b-e886-458e00e4e6b5",
        "id": "ARYBiNRMVTJF"
      },
      "execution_count": null,
      "outputs": [
        {
          "output_type": "execute_result",
          "data": {
            "text/plain": [
              "RandomForestClassifier()"
            ]
          },
          "metadata": {},
          "execution_count": 64
        }
      ]
    },
    {
      "cell_type": "code",
      "source": [
        "# teste com o modelo\n",
        "y_pred6040rf=rfc.predict(x_test6040)"
      ],
      "metadata": {
        "id": "Nil-ixovVTJF"
      },
      "execution_count": null,
      "outputs": []
    },
    {
      "cell_type": "code",
      "source": [
        "# Avaliação \n",
        "from sklearn.metrics import accuracy_score\n",
        "import matplotlib.pyplot as plt\n",
        "from sklearn.metrics import plot_confusion_matrix\n",
        "from sklearn.metrics import classification_report"
      ],
      "metadata": {
        "id": "jkP9eUDBVTJG"
      },
      "execution_count": null,
      "outputs": []
    },
    {
      "cell_type": "code",
      "source": [
        "# Aplicação da matriz de confusão\n",
        "_ = plot_confusion_matrix(rfc, x_test6040, y_test6040, cmap='Blues')"
      ],
      "metadata": {
        "colab": {
          "base_uri": "https://localhost:8080/",
          "height": 279
        },
        "outputId": "d450af42-81e6-411c-c7f1-3267768082ae",
        "id": "uO1NH7GvVTJH"
      },
      "execution_count": null,
      "outputs": [
        {
          "output_type": "display_data",
          "data": {
            "text/plain": [
              "<Figure size 432x288 with 2 Axes>"
            ],
            "image/png": "[encoded data removed]"
          },
          "metadata": {
            "needs_background": "light"
          }
        }
      ]
    },
    {
      "cell_type": "code",
      "source": [
        "# Aplicação de todas as métricas\n",
        "print(classification_report(y_test6040, y_pred6040rf))"
      ],
      "metadata": {
        "colab": {
          "base_uri": "https://localhost:8080/"
        },
        "outputId": "09773380-358e-4651-c666-192ab36b5d5e",
        "id": "7tomV19VVTJH"
      },
      "execution_count": null,
      "outputs": [
        {
          "output_type": "stream",
          "name": "stdout",
          "text": [
            "              precision    recall  f1-score   support\n",
            "\n",
            "         0.0       0.59      0.61      0.60       691\n",
            "         1.0       0.76      0.74      0.75      1147\n",
            "\n",
            "    accuracy                           0.69      1838\n",
            "   macro avg       0.67      0.68      0.67      1838\n",
            "weighted avg       0.69      0.69      0.69      1838\n",
            "\n"
          ]
        }
      ]
    },
    {
      "cell_type": "markdown",
      "source": [
        "## Modelo escolhido e avaliação:\n",
        "\n",
        " \n",
        " Podemos extrair dessa métricas que o melhor algoritmo, baseado na taxa de acurácia e precisão, para ambas as safras, a de proporção 30/70 e de 40/60, seria o random forest, onde as taxas de acurácia e precisão são maiores que as demais, nos trazendo resultados mais satisfatórios ao realizar testes. \n",
        "\n",
        "\n",
        "**Matriz de confusão do random forest 30/70:**\n",
        "\n",
        "\n",
        "![imagem_matriz.png](data:image/png;base64,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)"
      ],
      "metadata": {
        "id": "dukLTXXRnKmL"
      }
    }
  ]
}