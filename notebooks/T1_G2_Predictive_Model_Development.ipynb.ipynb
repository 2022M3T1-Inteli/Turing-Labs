{
  "nbformat": 4,
  "nbformat_minor": 0,
  "metadata": {
    "colab": {
      "provenance": [],
      "collapsed_sections": []
    },
    "kernelspec": {
      "name": "python3",
      "display_name": "Python 3"
    },
    "language_info": {
      "name": "python"
    }
  },
  "cells": [
    {
      "cell_type": "markdown",
      "source": [
        "#Carregandos dados e bibliotecas"
      ],
      "metadata": {
        "id": "1Cqf9aRuWrHq"
      }
    },
    {
      "cell_type": "code",
      "execution_count": 1,
      "metadata": {
        "colab": {
          "base_uri": "https://localhost:8080/"
        },
        "outputId": "c9009bca-9a8c-41e9-b2d7-dc9086d394ef",
        "id": "SldT4gJDVnEA"
      },
      "outputs": [
        {
          "output_type": "stream",
          "name": "stdout",
          "text": [
            "Looking in indexes: https://pypi.org/simple, https://us-python.pkg.dev/colab-wheels/public/simple/\n",
            "Collecting dataprep\n",
            "  Downloading dataprep-0.4.3-py3-none-any.whl (9.5 MB)\n",
            "\u001b[K     |████████████████████████████████| 9.5 MB 1.7 MB/s \n",
            "\u001b[?25hRequirement already satisfied: bokeh<3,>=2 in /usr/local/lib/python3.7/dist-packages (from dataprep) (2.3.3)\n",
            "Requirement already satisfied: tqdm<5.0,>=4.48 in /usr/local/lib/python3.7/dist-packages (from dataprep) (4.64.1)\n",
            "Collecting varname<0.9.0,>=0.8.1\n",
            "  Downloading varname-0.8.3-py3-none-any.whl (21 kB)\n",
            "Collecting flask<3,>=2\n",
            "  Downloading Flask-2.2.2-py3-none-any.whl (101 kB)\n",
            "\u001b[K     |████████████████████████████████| 101 kB 3.7 MB/s \n",
            "\u001b[?25hCollecting python-Levenshtein<0.13.0,>=0.12.2\n",
            "  Downloading python-Levenshtein-0.12.2.tar.gz (50 kB)\n",
            "\u001b[K     |████████████████████████████████| 50 kB 3.4 MB/s \n",
            "\u001b[?25hCollecting pystache<0.7.0,>=0.6.0\n",
            "  Downloading pystache-0.6.0.tar.gz (78 kB)\n",
            "\u001b[K     |████████████████████████████████| 78 kB 5.1 MB/s \n",
            "\u001b[?25h  Installing build dependencies ... \u001b[?25l\u001b[?25hdone\n",
            "  Getting requirements to build wheel ... \u001b[?25l\u001b[?25hdone\n",
            "    Preparing wheel metadata ... \u001b[?25l\u001b[?25hdone\n",
            "Requirement already satisfied: nltk<4.0.0,>=3.6.7 in /usr/local/lib/python3.7/dist-packages (from dataprep) (3.7)\n",
            "Requirement already satisfied: wordcloud<2.0,>=1.8 in /usr/local/lib/python3.7/dist-packages (from dataprep) (1.8.2.2)\n",
            "Collecting dask[array,dataframe,delayed]<2022.0,>=2021.11\n",
            "  Downloading dask-2021.12.0-py3-none-any.whl (1.0 MB)\n",
            "\u001b[K     |████████████████████████████████| 1.0 MB 45.4 MB/s \n",
            "\u001b[?25hCollecting metaphone<0.7,>=0.6\n",
            "  Downloading Metaphone-0.6.tar.gz (14 kB)\n",
            "Requirement already satisfied: sqlalchemy<2.0.0,>=1.4.32 in /usr/local/lib/python3.7/dist-packages (from dataprep) (1.4.41)\n",
            "Collecting python-crfsuite<0.10.0,>=0.9.7\n",
            "  Downloading python_crfsuite-0.9.8-cp37-cp37m-manylinux_2_17_x86_64.manylinux2014_x86_64.whl (965 kB)\n",
            "\u001b[K     |████████████████████████████████| 965 kB 45.6 MB/s \n",
            "\u001b[?25hRequirement already satisfied: pydantic<2.0,>=1.6 in /usr/local/lib/python3.7/dist-packages (from dataprep) (1.9.2)\n",
            "Collecting python-stdnum<2.0,>=1.16\n",
            "  Downloading python_stdnum-1.17-py2.py3-none-any.whl (943 kB)\n",
            "\u001b[K     |████████████████████████████████| 943 kB 55.9 MB/s \n",
            "\u001b[?25hCollecting flask_cors<4.0.0,>=3.0.10\n",
            "  Downloading Flask_Cors-3.0.10-py2.py3-none-any.whl (14 kB)\n",
            "Collecting regex<2022.0.0,>=2021.8.3\n",
            "  Downloading regex-2021.11.10-cp37-cp37m-manylinux_2_17_x86_64.manylinux2014_x86_64.whl (749 kB)\n",
            "\u001b[K     |████████████████████████████████| 749 kB 54.3 MB/s \n",
            "\u001b[?25hRequirement already satisfied: aiohttp<4.0,>=3.6 in /usr/local/lib/python3.7/dist-packages (from dataprep) (3.8.1)\n",
            "Collecting jsonpath-ng<2.0,>=1.5\n",
            "  Downloading jsonpath_ng-1.5.3-py3-none-any.whl (29 kB)\n",
            "Requirement already satisfied: numpy<2.0,>=1.21 in /usr/local/lib/python3.7/dist-packages (from dataprep) (1.21.6)\n",
            "Requirement already satisfied: ipywidgets<8.0,>=7.5 in /usr/local/lib/python3.7/dist-packages (from dataprep) (7.7.1)\n",
            "Collecting jinja2<4,>=3\n",
            "  Downloading Jinja2-3.1.2-py3-none-any.whl (133 kB)\n",
            "\u001b[K     |████████████████████████████████| 133 kB 69.7 MB/s \n",
            "\u001b[?25hCollecting scipy<=1.7.1\n",
            "  Downloading scipy-1.7.1-cp37-cp37m-manylinux_2_5_x86_64.manylinux1_x86_64.whl (28.5 MB)\n",
            "\u001b[K     |████████████████████████████████| 28.5 MB 61.5 MB/s \n",
            "\u001b[?25hRequirement already satisfied: pandas<2.0,>=1.1 in /usr/local/lib/python3.7/dist-packages (from dataprep) (1.3.5)\n",
            "Requirement already satisfied: attrs>=17.3.0 in /usr/local/lib/python3.7/dist-packages (from aiohttp<4.0,>=3.6->dataprep) (22.1.0)\n",
            "Requirement already satisfied: multidict<7.0,>=4.5 in /usr/local/lib/python3.7/dist-packages (from aiohttp<4.0,>=3.6->dataprep) (6.0.2)\n",
            "Requirement already satisfied: typing-extensions>=3.7.4 in /usr/local/lib/python3.7/dist-packages (from aiohttp<4.0,>=3.6->dataprep) (4.1.1)\n",
            "Requirement already satisfied: aiosignal>=1.1.2 in /usr/local/lib/python3.7/dist-packages (from aiohttp<4.0,>=3.6->dataprep) (1.2.0)\n",
            "Requirement already satisfied: frozenlist>=1.1.1 in /usr/local/lib/python3.7/dist-packages (from aiohttp<4.0,>=3.6->dataprep) (1.3.1)\n",
            "Requirement already satisfied: charset-normalizer<3.0,>=2.0 in /usr/local/lib/python3.7/dist-packages (from aiohttp<4.0,>=3.6->dataprep) (2.1.1)\n",
            "Requirement already satisfied: async-timeout<5.0,>=4.0.0a3 in /usr/local/lib/python3.7/dist-packages (from aiohttp<4.0,>=3.6->dataprep) (4.0.2)\n",
            "Requirement already satisfied: asynctest==0.13.0 in /usr/local/lib/python3.7/dist-packages (from aiohttp<4.0,>=3.6->dataprep) (0.13.0)\n",
            "Requirement already satisfied: yarl<2.0,>=1.0 in /usr/local/lib/python3.7/dist-packages (from aiohttp<4.0,>=3.6->dataprep) (1.8.1)\n",
            "Requirement already satisfied: python-dateutil>=2.1 in /usr/local/lib/python3.7/dist-packages (from bokeh<3,>=2->dataprep) (2.8.2)\n",
            "Requirement already satisfied: PyYAML>=3.10 in /usr/local/lib/python3.7/dist-packages (from bokeh<3,>=2->dataprep) (6.0)\n",
            "Requirement already satisfied: pillow>=7.1.0 in /usr/local/lib/python3.7/dist-packages (from bokeh<3,>=2->dataprep) (7.1.2)\n",
            "Requirement already satisfied: packaging>=16.8 in /usr/local/lib/python3.7/dist-packages (from bokeh<3,>=2->dataprep) (21.3)\n",
            "Requirement already satisfied: tornado>=5.1 in /usr/local/lib/python3.7/dist-packages (from bokeh<3,>=2->dataprep) (5.1.1)\n",
            "Requirement already satisfied: partd>=0.3.10 in /usr/local/lib/python3.7/dist-packages (from dask[array,dataframe,delayed]<2022.0,>=2021.11->dataprep) (1.3.0)\n",
            "Requirement already satisfied: fsspec>=0.6.0 in /usr/local/lib/python3.7/dist-packages (from dask[array,dataframe,delayed]<2022.0,>=2021.11->dataprep) (2022.8.2)\n",
            "Requirement already satisfied: cloudpickle>=1.1.1 in /usr/local/lib/python3.7/dist-packages (from dask[array,dataframe,delayed]<2022.0,>=2021.11->dataprep) (1.5.0)\n",
            "Requirement already satisfied: toolz>=0.8.2 in /usr/local/lib/python3.7/dist-packages (from dask[array,dataframe,delayed]<2022.0,>=2021.11->dataprep) (0.12.0)\n",
            "Requirement already satisfied: importlib-metadata>=3.6.0 in /usr/local/lib/python3.7/dist-packages (from flask<3,>=2->dataprep) (4.12.0)\n",
            "Collecting itsdangerous>=2.0\n",
            "  Downloading itsdangerous-2.1.2-py3-none-any.whl (15 kB)\n",
            "Collecting Werkzeug>=2.2.2\n",
            "  Downloading Werkzeug-2.2.2-py3-none-any.whl (232 kB)\n",
            "\u001b[K     |████████████████████████████████| 232 kB 57.8 MB/s \n",
            "\u001b[?25hCollecting click>=8.0\n",
            "  Downloading click-8.1.3-py3-none-any.whl (96 kB)\n",
            "\u001b[K     |████████████████████████████████| 96 kB 5.2 MB/s \n",
            "\u001b[?25hRequirement already satisfied: Six in /usr/local/lib/python3.7/dist-packages (from flask_cors<4.0.0,>=3.0.10->dataprep) (1.15.0)\n",
            "Requirement already satisfied: zipp>=0.5 in /usr/local/lib/python3.7/dist-packages (from importlib-metadata>=3.6.0->flask<3,>=2->dataprep) (3.8.1)\n",
            "Requirement already satisfied: traitlets>=4.3.1 in /usr/local/lib/python3.7/dist-packages (from ipywidgets<8.0,>=7.5->dataprep) (5.1.1)\n",
            "Requirement already satisfied: jupyterlab-widgets>=1.0.0 in /usr/local/lib/python3.7/dist-packages (from ipywidgets<8.0,>=7.5->dataprep) (3.0.3)\n",
            "Requirement already satisfied: ipykernel>=4.5.1 in /usr/local/lib/python3.7/dist-packages (from ipywidgets<8.0,>=7.5->dataprep) (5.3.4)\n",
            "Requirement already satisfied: ipython>=4.0.0 in /usr/local/lib/python3.7/dist-packages (from ipywidgets<8.0,>=7.5->dataprep) (7.9.0)\n",
            "Requirement already satisfied: ipython-genutils~=0.2.0 in /usr/local/lib/python3.7/dist-packages (from ipywidgets<8.0,>=7.5->dataprep) (0.2.0)\n",
            "Requirement already satisfied: widgetsnbextension~=3.6.0 in /usr/local/lib/python3.7/dist-packages (from ipywidgets<8.0,>=7.5->dataprep) (3.6.1)\n",
            "Requirement already satisfied: jupyter-client in /usr/local/lib/python3.7/dist-packages (from ipykernel>=4.5.1->ipywidgets<8.0,>=7.5->dataprep) (6.1.12)\n",
            "Requirement already satisfied: setuptools>=18.5 in /usr/local/lib/python3.7/dist-packages (from ipython>=4.0.0->ipywidgets<8.0,>=7.5->dataprep) (57.4.0)\n",
            "Requirement already satisfied: pickleshare in /usr/local/lib/python3.7/dist-packages (from ipython>=4.0.0->ipywidgets<8.0,>=7.5->dataprep) (0.7.5)\n",
            "Requirement already satisfied: backcall in /usr/local/lib/python3.7/dist-packages (from ipython>=4.0.0->ipywidgets<8.0,>=7.5->dataprep) (0.2.0)\n",
            "Requirement already satisfied: pygments in /usr/local/lib/python3.7/dist-packages (from ipython>=4.0.0->ipywidgets<8.0,>=7.5->dataprep) (2.6.1)\n",
            "Requirement already satisfied: pexpect in /usr/local/lib/python3.7/dist-packages (from ipython>=4.0.0->ipywidgets<8.0,>=7.5->dataprep) (4.8.0)\n",
            "Collecting jedi>=0.10\n",
            "  Downloading jedi-0.18.1-py2.py3-none-any.whl (1.6 MB)\n",
            "\u001b[K     |████████████████████████████████| 1.6 MB 45.3 MB/s \n",
            "\u001b[?25hRequirement already satisfied: decorator in /usr/local/lib/python3.7/dist-packages (from ipython>=4.0.0->ipywidgets<8.0,>=7.5->dataprep) (4.4.2)\n",
            "Requirement already satisfied: prompt-toolkit<2.1.0,>=2.0.0 in /usr/local/lib/python3.7/dist-packages (from ipython>=4.0.0->ipywidgets<8.0,>=7.5->dataprep) (2.0.10)\n",
            "Requirement already satisfied: parso<0.9.0,>=0.8.0 in /usr/local/lib/python3.7/dist-packages (from jedi>=0.10->ipython>=4.0.0->ipywidgets<8.0,>=7.5->dataprep) (0.8.3)\n",
            "Requirement already satisfied: MarkupSafe>=2.0 in /usr/local/lib/python3.7/dist-packages (from jinja2<4,>=3->dataprep) (2.0.1)\n",
            "Collecting ply\n",
            "  Downloading ply-3.11-py2.py3-none-any.whl (49 kB)\n",
            "\u001b[K     |████████████████████████████████| 49 kB 5.5 MB/s \n",
            "\u001b[?25hRequirement already satisfied: joblib in /usr/local/lib/python3.7/dist-packages (from nltk<4.0.0,>=3.6.7->dataprep) (1.1.0)\n",
            "Requirement already satisfied: pyparsing!=3.0.5,>=2.0.2 in /usr/local/lib/python3.7/dist-packages (from packaging>=16.8->bokeh<3,>=2->dataprep) (3.0.9)\n",
            "Requirement already satisfied: pytz>=2017.3 in /usr/local/lib/python3.7/dist-packages (from pandas<2.0,>=1.1->dataprep) (2022.2.1)\n",
            "Requirement already satisfied: locket in /usr/local/lib/python3.7/dist-packages (from partd>=0.3.10->dask[array,dataframe,delayed]<2022.0,>=2021.11->dataprep) (1.0.0)\n",
            "Requirement already satisfied: wcwidth in /usr/local/lib/python3.7/dist-packages (from prompt-toolkit<2.1.0,>=2.0.0->ipython>=4.0.0->ipywidgets<8.0,>=7.5->dataprep) (0.2.5)\n",
            "Requirement already satisfied: greenlet!=0.4.17 in /usr/local/lib/python3.7/dist-packages (from sqlalchemy<2.0.0,>=1.4.32->dataprep) (1.1.3)\n",
            "Collecting pure_eval<1.0.0\n",
            "  Downloading pure_eval-0.2.2-py3-none-any.whl (11 kB)\n",
            "Collecting asttokens<3.0.0,>=2.0.0\n",
            "  Downloading asttokens-2.0.8-py2.py3-none-any.whl (23 kB)\n",
            "Collecting executing<0.9.0,>=0.8.3\n",
            "  Downloading executing-0.8.3-py2.py3-none-any.whl (16 kB)\n",
            "Collecting MarkupSafe>=2.0\n",
            "  Downloading MarkupSafe-2.1.1-cp37-cp37m-manylinux_2_17_x86_64.manylinux2014_x86_64.whl (25 kB)\n",
            "Requirement already satisfied: notebook>=4.4.1 in /usr/local/lib/python3.7/dist-packages (from widgetsnbextension~=3.6.0->ipywidgets<8.0,>=7.5->dataprep) (5.3.1)\n",
            "Requirement already satisfied: nbconvert in /usr/local/lib/python3.7/dist-packages (from notebook>=4.4.1->widgetsnbextension~=3.6.0->ipywidgets<8.0,>=7.5->dataprep) (5.6.1)\n",
            "Requirement already satisfied: nbformat in /usr/local/lib/python3.7/dist-packages (from notebook>=4.4.1->widgetsnbextension~=3.6.0->ipywidgets<8.0,>=7.5->dataprep) (5.4.0)\n",
            "Requirement already satisfied: Send2Trash in /usr/local/lib/python3.7/dist-packages (from notebook>=4.4.1->widgetsnbextension~=3.6.0->ipywidgets<8.0,>=7.5->dataprep) (1.8.0)\n",
            "Requirement already satisfied: jupyter-core>=4.4.0 in /usr/local/lib/python3.7/dist-packages (from notebook>=4.4.1->widgetsnbextension~=3.6.0->ipywidgets<8.0,>=7.5->dataprep) (4.11.1)\n",
            "Requirement already satisfied: terminado>=0.8.1 in /usr/local/lib/python3.7/dist-packages (from notebook>=4.4.1->widgetsnbextension~=3.6.0->ipywidgets<8.0,>=7.5->dataprep) (0.13.3)\n",
            "Requirement already satisfied: pyzmq>=13 in /usr/local/lib/python3.7/dist-packages (from jupyter-client->ipykernel>=4.5.1->ipywidgets<8.0,>=7.5->dataprep) (23.2.1)\n",
            "Requirement already satisfied: ptyprocess in /usr/local/lib/python3.7/dist-packages (from terminado>=0.8.1->notebook>=4.4.1->widgetsnbextension~=3.6.0->ipywidgets<8.0,>=7.5->dataprep) (0.7.0)\n",
            "Requirement already satisfied: matplotlib in /usr/local/lib/python3.7/dist-packages (from wordcloud<2.0,>=1.8->dataprep) (3.2.2)\n",
            "Requirement already satisfied: idna>=2.0 in /usr/local/lib/python3.7/dist-packages (from yarl<2.0,>=1.0->aiohttp<4.0,>=3.6->dataprep) (2.10)\n",
            "Requirement already satisfied: cycler>=0.10 in /usr/local/lib/python3.7/dist-packages (from matplotlib->wordcloud<2.0,>=1.8->dataprep) (0.11.0)\n",
            "Requirement already satisfied: kiwisolver>=1.0.1 in /usr/local/lib/python3.7/dist-packages (from matplotlib->wordcloud<2.0,>=1.8->dataprep) (1.4.4)\n",
            "Requirement already satisfied: bleach in /usr/local/lib/python3.7/dist-packages (from nbconvert->notebook>=4.4.1->widgetsnbextension~=3.6.0->ipywidgets<8.0,>=7.5->dataprep) (5.0.1)\n",
            "Requirement already satisfied: mistune<2,>=0.8.1 in /usr/local/lib/python3.7/dist-packages (from nbconvert->notebook>=4.4.1->widgetsnbextension~=3.6.0->ipywidgets<8.0,>=7.5->dataprep) (0.8.4)\n",
            "Requirement already satisfied: pandocfilters>=1.4.1 in /usr/local/lib/python3.7/dist-packages (from nbconvert->notebook>=4.4.1->widgetsnbextension~=3.6.0->ipywidgets<8.0,>=7.5->dataprep) (1.5.0)\n",
            "Requirement already satisfied: entrypoints>=0.2.2 in /usr/local/lib/python3.7/dist-packages (from nbconvert->notebook>=4.4.1->widgetsnbextension~=3.6.0->ipywidgets<8.0,>=7.5->dataprep) (0.4)\n",
            "Requirement already satisfied: testpath in /usr/local/lib/python3.7/dist-packages (from nbconvert->notebook>=4.4.1->widgetsnbextension~=3.6.0->ipywidgets<8.0,>=7.5->dataprep) (0.6.0)\n",
            "Requirement already satisfied: defusedxml in /usr/local/lib/python3.7/dist-packages (from nbconvert->notebook>=4.4.1->widgetsnbextension~=3.6.0->ipywidgets<8.0,>=7.5->dataprep) (0.7.1)\n",
            "Requirement already satisfied: jsonschema>=2.6 in /usr/local/lib/python3.7/dist-packages (from nbformat->notebook>=4.4.1->widgetsnbextension~=3.6.0->ipywidgets<8.0,>=7.5->dataprep) (4.3.3)\n",
            "Requirement already satisfied: fastjsonschema in /usr/local/lib/python3.7/dist-packages (from nbformat->notebook>=4.4.1->widgetsnbextension~=3.6.0->ipywidgets<8.0,>=7.5->dataprep) (2.16.1)\n",
            "Requirement already satisfied: importlib-resources>=1.4.0 in /usr/local/lib/python3.7/dist-packages (from jsonschema>=2.6->nbformat->notebook>=4.4.1->widgetsnbextension~=3.6.0->ipywidgets<8.0,>=7.5->dataprep) (5.9.0)\n",
            "Requirement already satisfied: pyrsistent!=0.17.0,!=0.17.1,!=0.17.2,>=0.14.0 in /usr/local/lib/python3.7/dist-packages (from jsonschema>=2.6->nbformat->notebook>=4.4.1->widgetsnbextension~=3.6.0->ipywidgets<8.0,>=7.5->dataprep) (0.18.1)\n",
            "Requirement already satisfied: webencodings in /usr/local/lib/python3.7/dist-packages (from bleach->nbconvert->notebook>=4.4.1->widgetsnbextension~=3.6.0->ipywidgets<8.0,>=7.5->dataprep) (0.5.1)\n",
            "Building wheels for collected packages: metaphone, pystache, python-Levenshtein\n",
            "  Building wheel for metaphone (setup.py) ... \u001b[?25l\u001b[?25hdone\n",
            "  Created wheel for metaphone: filename=Metaphone-0.6-py3-none-any.whl size=13918 sha256=db7d3d14b6b7ff19f64c46f8d4360ceeb3dc6c2a58ca0195304191111c220d7e\n",
            "  Stored in directory: /root/.cache/pip/wheels/1d/a8/cb/6f8902aa5457bd71344e00665c230e9c45255b3f57f2194a0f\n",
            "  Building wheel for pystache (PEP 517) ... \u001b[?25l\u001b[?25hdone\n",
            "  Created wheel for pystache: filename=pystache-0.6.0-py3-none-any.whl size=83635 sha256=347bae16c4ade1ea9602bcc4767c5d82c0674ce84808372fb04e411fd9311b2c\n",
            "  Stored in directory: /root/.cache/pip/wheels/78/87/45/383bd15701a08a94c735e9eaf3ff3299655684aaca63bbad96\n",
            "  Building wheel for python-Levenshtein (setup.py) ... \u001b[?25l\u001b[?25hdone\n",
            "  Created wheel for python-Levenshtein: filename=python_Levenshtein-0.12.2-cp37-cp37m-linux_x86_64.whl size=149870 sha256=13dd4ff8d7fe214b38c1857e5289f72653e66b15d0ccbc3580d553a853e6e0e1\n",
            "  Stored in directory: /root/.cache/pip/wheels/05/5f/ca/7c4367734892581bb5ff896f15027a932c551080b2abd3e00d\n",
            "Successfully built metaphone pystache python-Levenshtein\n",
            "Installing collected packages: MarkupSafe, jedi, jinja2, Werkzeug, itsdangerous, click, regex, pure-eval, ply, flask, executing, dask, asttokens, varname, scipy, python-stdnum, python-Levenshtein, python-crfsuite, pystache, metaphone, jsonpath-ng, flask-cors, dataprep\n",
            "  Attempting uninstall: MarkupSafe\n",
            "    Found existing installation: MarkupSafe 2.0.1\n",
            "    Uninstalling MarkupSafe-2.0.1:\n",
            "      Successfully uninstalled MarkupSafe-2.0.1\n",
            "  Attempting uninstall: jinja2\n",
            "    Found existing installation: Jinja2 2.11.3\n",
            "    Uninstalling Jinja2-2.11.3:\n",
            "      Successfully uninstalled Jinja2-2.11.3\n",
            "  Attempting uninstall: Werkzeug\n",
            "    Found existing installation: Werkzeug 1.0.1\n",
            "    Uninstalling Werkzeug-1.0.1:\n",
            "      Successfully uninstalled Werkzeug-1.0.1\n",
            "  Attempting uninstall: itsdangerous\n",
            "    Found existing installation: itsdangerous 1.1.0\n",
            "    Uninstalling itsdangerous-1.1.0:\n",
            "      Successfully uninstalled itsdangerous-1.1.0\n",
            "  Attempting uninstall: click\n",
            "    Found existing installation: click 7.1.2\n",
            "    Uninstalling click-7.1.2:\n",
            "      Successfully uninstalled click-7.1.2\n",
            "  Attempting uninstall: regex\n",
            "    Found existing installation: regex 2022.6.2\n",
            "    Uninstalling regex-2022.6.2:\n",
            "      Successfully uninstalled regex-2022.6.2\n",
            "  Attempting uninstall: flask\n",
            "    Found existing installation: Flask 1.1.4\n",
            "    Uninstalling Flask-1.1.4:\n",
            "      Successfully uninstalled Flask-1.1.4\n",
            "  Attempting uninstall: dask\n",
            "    Found existing installation: dask 2022.2.0\n",
            "    Uninstalling dask-2022.2.0:\n",
            "      Successfully uninstalled dask-2022.2.0\n",
            "  Attempting uninstall: scipy\n",
            "    Found existing installation: scipy 1.7.3\n",
            "    Uninstalling scipy-1.7.3:\n",
            "      Successfully uninstalled scipy-1.7.3\n",
            "\u001b[31mERROR: pip's dependency resolver does not currently take into account all the packages that are installed. This behaviour is the source of the following dependency conflicts.\n",
            "distributed 2022.2.0 requires dask==2022.02.0, but you have dask 2021.12.0 which is incompatible.\u001b[0m\n",
            "Successfully installed MarkupSafe-2.1.1 Werkzeug-2.2.2 asttokens-2.0.8 click-8.1.3 dask-2021.12.0 dataprep-0.4.3 executing-0.8.3 flask-2.2.2 flask-cors-3.0.10 itsdangerous-2.1.2 jedi-0.18.1 jinja2-3.1.2 jsonpath-ng-1.5.3 metaphone-0.6 ply-3.11 pure-eval-0.2.2 pystache-0.6.0 python-Levenshtein-0.12.2 python-crfsuite-0.9.8 python-stdnum-1.17 regex-2021.11.10 scipy-1.7.1 varname-0.8.3\n"
          ]
        }
      ],
      "source": [
        "# Baixando\n",
        "!pip install -U -q PyDrive\n",
        "!pip install dataprep"
      ]
    },
    {
      "cell_type": "code",
      "execution_count": 2,
      "metadata": {
        "id": "SgDfervvVnEA"
      },
      "outputs": [],
      "source": [
        "# Importando bibliotecas\n",
        "import pandas as pd\n",
        "import numpy as np\n",
        "\n",
        "# Bibliotecas para carregamento e tratamentos de dados\n",
        "from pydrive.auth import GoogleAuth\n",
        "from dataprep.eda import create_report\n",
        "from pydrive.drive import GoogleDrive\n",
        "from google.colab import auth\n",
        "from oauth2client.client import GoogleCredentials\n",
        "from google_drive_downloader import GoogleDriveDownloader as gdd\n",
        "import warnings\n",
        "warnings.filterwarnings('ignore')\n",
        "\n",
        "# Bibliotecas para modelagem\n",
        "import matplotlib.pyplot as plt\n",
        "import seaborn as sns\n",
        "from sklearn.datasets import make_classification\n",
        "from sklearn.ensemble import RandomForestClassifier\n",
        "from sklearn.model_selection import train_test_split\n",
        "from sklearn.metrics import accuracy_score\n",
        "from sklearn.metrics import plot_confusion_matrix\n",
        "from sklearn.metrics import classification_report"
      ]
    },
    {
      "cell_type": "code",
      "execution_count": 3,
      "metadata": {
        "colab": {
          "base_uri": "https://localhost:8080/"
        },
        "id": "qob7_mEw-Unm",
        "outputId": "e0fe5cdc-451f-4f91-a871-65dee9b4c477"
      },
      "outputs": [
        {
          "output_type": "stream",
          "name": "stdout",
          "text": [
            "Mounted at /content/drive\n"
          ]
        }
      ],
      "source": [
        "from google.colab import drive\n",
        "drive.mount('/content/drive')"
      ]
    },
    {
      "cell_type": "code",
      "source": [
        "# Download dos dados\n",
        "!gdown 1yKYkbBl30GQLdDDXOPMpnno7HiES26NT"
      ],
      "metadata": {
        "colab": {
          "base_uri": "https://localhost:8080/"
        },
        "id": "RLsO0uLKg-JH",
        "outputId": "9e18be03-e298-4ad1-e607-43501e2668dc"
      },
      "execution_count": 4,
      "outputs": [
        {
          "output_type": "stream",
          "name": "stdout",
          "text": [
            "Downloading...\n",
            "From: https://drive.google.com/uc?id=1yKYkbBl30GQLdDDXOPMpnno7HiES26NT\n",
            "To: /content/data.csv\n",
            "100% 1.60G/1.60G [00:13<00:00, 121MB/s]\n"
          ]
        }
      ]
    },
    {
      "cell_type": "code",
      "execution_count": 5,
      "metadata": {
        "id": "fujs8ebxVnEA"
      },
      "outputs": [],
      "source": [
        "#Lendo os dados do arquivo\n",
        "df = pd.read_csv('/content/data.csv')"
      ]
    },
    {
      "cell_type": "markdown",
      "source": [
        "# Preparação de Dados"
      ],
      "metadata": {
        "id": "LLNmYDH7Wn0I"
      }
    },
    {
      "cell_type": "markdown",
      "source": [
        "###Tratamento dos dados"
      ],
      "metadata": {
        "id": "MiXtxgAibNY9"
      }
    },
    {
      "cell_type": "code",
      "execution_count": 6,
      "metadata": {
        "id": "ms608r-NGr8c"
      },
      "outputs": [],
      "source": [
        "#Label encoding cod_rating to cod_rating_numeric\n",
        "df['cod_rating_numeric'] = (df['cod_rating'].replace('HH',1)\n",
        "                                              .replace('H',2)\n",
        "                                              .replace('G',3)\n",
        "                                              .replace('F',4)\n",
        "                                              .replace('E',5)\n",
        "                                              .replace('D',6)\n",
        "                                              .replace('c',7)\n",
        "                                              .replace('B',8)\n",
        "                                              .replace('A',9)\n",
        "                                              .replace('AA',10)\n",
        "                                              .replace(np.nan, 0))"
      ]
    },
    {
      "cell_type": "code",
      "execution_count": 7,
      "metadata": {
        "id": "XXh7JwHqJM_m"
      },
      "outputs": [],
      "source": [
        "#Seleciona somente clientes\n",
        "preframe = df.loc[df['cod_rating_numeric'] != 0]"
      ]
    },
    {
      "cell_type": "markdown",
      "source": [
        "###Feature Engeneering"
      ],
      "metadata": {
        "id": "wnhqbo6rZJZT"
      }
    },
    {
      "cell_type": "code",
      "execution_count": 8,
      "metadata": {
        "id": "_VPgLjxHQP4k"
      },
      "outputs": [],
      "source": [
        "#Definindo o dataset com clientes e com o feature engineering selecionado\n",
        "df_new_all = preframe.fillna(0)"
      ]
    },
    {
      "cell_type": "code",
      "execution_count": 9,
      "metadata": {
        "id": "GOZ6FpkF_MaY"
      },
      "outputs": [],
      "source": [
        "#Entendimento das Features por meio de uma matriz de correlação\n",
        "matriz_corr = df_new_all.corr().style.background_gradient(cmap='coolwarm')"
      ]
    },
    {
      "cell_type": "code",
      "execution_count": 10,
      "metadata": {
        "id": "9foyAeYHBq1N"
      },
      "outputs": [],
      "source": [
        "#Seleção das Features\n",
        "df_new_focus = df_new_all[['vlr_credito',\t'vlr_saldo',\t'num_atend_atrs',\t'num_produtos',\t'num_atend',\t'qtd_oper',\t'qtd_reclm',\t'ind_atrito',\t'ind_engaj']]"
      ]
    },
    {
      "cell_type": "code",
      "execution_count": 11,
      "metadata": {
        "id": "ksuSXLSFISY0"
      },
      "outputs": [],
      "source": [
        "#ordenando o dataset pelas colunas com IQR diferente de 0 (colunas relevantes)\n",
        "df_util= df_new_focus.sort_values(by=['vlr_saldo','qtd_oper'])"
      ]
    },
    {
      "cell_type": "markdown",
      "source": [
        "###Setando a Safra Artificial"
      ],
      "metadata": {
        "id": "UAfrUfsOZnLh"
      }
    },
    {
      "cell_type": "code",
      "execution_count": 12,
      "metadata": {
        "id": "3ypI4-VJhoTX",
        "colab": {
          "base_uri": "https://localhost:8080/"
        },
        "outputId": "10cdce54-730a-452c-ea5d-cdbacb8f51c5"
      },
      "outputs": [
        {
          "output_type": "execute_result",
          "data": {
            "text/plain": [
              "155452"
            ]
          },
          "metadata": {},
          "execution_count": 12
        }
      ],
      "source": [
        "#Calculando o tamanho da amostra\n",
        "x = 2.5/100\n",
        "rejeicao = int(6218119 * x)\n",
        "rejeicao"
      ]
    },
    {
      "cell_type": "code",
      "execution_count": 13,
      "metadata": {
        "id": "ZogZkcKojrdo"
      },
      "outputs": [],
      "source": [
        "# Aplicando confiança de 90%\n",
        "df_wth_out_outliers = df_util.iloc[ 155452 : -155452 ]"
      ]
    },
    {
      "cell_type": "code",
      "execution_count": 14,
      "metadata": {
        "id": "XO9CQhy6nz62"
      },
      "outputs": [],
      "source": [
        "# Seleciona somente os atritados\n",
        "df_atr = df_wth_out_outliers.loc[df['ind_atrito'] == 1]\n",
        "x = df_atr"
      ]
    },
    {
      "cell_type": "code",
      "execution_count": 15,
      "metadata": {
        "id": "DOSXgoNftDd7"
      },
      "outputs": [],
      "source": [
        "#Seleciona somente os não atritados\n",
        "df_natr = df_wth_out_outliers.loc[df['ind_atrito'] != 1]\n",
        "ys = df_natr.sample(frac=1)"
      ]
    },
    {
      "cell_type": "code",
      "execution_count": 16,
      "metadata": {
        "id": "OwRab_YUoYb5"
      },
      "outputs": [],
      "source": [
        "#Setando para 30/70\n",
        "df_natr = df_wth_out_outliers.loc[df['ind_atrito'] != 1]\n",
        "y1 = ys.sample(frac=1).head(6062)"
      ]
    },
    {
      "cell_type": "code",
      "execution_count": 17,
      "metadata": {
        "id": "8cRSsM4hppb3"
      },
      "outputs": [],
      "source": [
        "SafraArtificial = x.append(y1)"
      ]
    },
    {
      "cell_type": "markdown",
      "source": [
        "# Modelo Final"
      ],
      "metadata": {
        "id": "8bMKKo3aTwmp"
      }
    },
    {
      "cell_type": "markdown",
      "source": [
        "\n",
        "###Algoritmo usado:\n",
        "\n",
        "####**Random Forest**\n",
        "\n",
        "Algoritmo de classificação, que **seleciona uma amostra de dados do conjunto de treinamento** e  **n variáveis aleatórias** em que estas serão submetidas a cálculos para a criação de um novo nó, e nesse nó o processo dito se repete.\n",
        "\n",
        "###Safra usada:\n",
        "\n",
        "A safra usada foi a de 30% atritados e 70% não atritados. No modelo original, mais de 99% dos clientes eram não atritados, consequentemente se o modelo tivesse de predizer se o cliete tinha atrito com o banco ou não, ele diria em quase todas as ocasiões que cliente é não atritado. Com uma proporção mais razoável, é possível obter ambos resultados de modo mais uniforme, o que reflete melhor a realidade.\n",
        "\n",
        "\n",
        "###Métricas usadas:\n",
        "\n",
        "Precisão, Revocação, F1-Score e Acurácia.\n",
        "\n",
        "\n"
      ],
      "metadata": {
        "id": "at8FLrHooKEr"
      }
    },
    {
      "cell_type": "code",
      "source": [
        "# Lendo os dados do arquivo de safra artificial \n",
        "data_safra_artificial = SafraArtificial"
      ],
      "metadata": {
        "id": "aDpZ0H-RcFK7"
      },
      "execution_count": 18,
      "outputs": []
    },
    {
      "cell_type": "markdown",
      "source": [
        "###Divisão do modelo em teste e treino"
      ],
      "metadata": {
        "id": "l4OTCR3DSQ3s"
      }
    },
    {
      "cell_type": "code",
      "source": [
        "# Dropa a coluna de target\n",
        "x = data_safra_artificial.drop(['ind_atrito'], axis = 1)\n",
        "y = data_safra_artificial['ind_atrito']"
      ],
      "metadata": {
        "id": "CcIJd8tQ_B_G"
      },
      "execution_count": 19,
      "outputs": []
    },
    {
      "cell_type": "code",
      "source": [
        "# Separa o conjunto teste do de treinamento e o de treinamento recebe 70% dos dados\n",
        "x_train, x_test, y_train, y_test = train_test_split(x, y,\n",
        "                                                    test_size = 0.3,\n",
        "                                                    random_state = 42)"
      ],
      "metadata": {
        "id": "wGeYa6SMddYh"
      },
      "execution_count": 20,
      "outputs": []
    },
    {
      "cell_type": "markdown",
      "source": [
        "###Aplicação do algoritmo de Random Forest"
      ],
      "metadata": {
        "id": "AdrnzcoQ71Vn"
      }
    },
    {
      "cell_type": "code",
      "source": [
        "# treinamento do modelo pelo algoritmo random forest\n",
        "rfc = RandomForestClassifier()\n",
        "rfc.fit(x_train, y_train)"
      ],
      "metadata": {
        "id": "zrwdjB70-Ya0",
        "colab": {
          "base_uri": "https://localhost:8080/"
        },
        "outputId": "7e2704f1-d95b-4c29-fe93-78b86d7badd2"
      },
      "execution_count": 21,
      "outputs": [
        {
          "output_type": "execute_result",
          "data": {
            "text/plain": [
              "RandomForestClassifier()"
            ]
          },
          "metadata": {},
          "execution_count": 21
        }
      ]
    },
    {
      "cell_type": "code",
      "source": [
        "# teste com o modelo\n",
        "y_predrf = rfc.predict(x_test)"
      ],
      "metadata": {
        "id": "uKMg0RACUorU"
      },
      "execution_count": 22,
      "outputs": []
    },
    {
      "cell_type": "markdown",
      "source": [
        "###Avaliação do Modelo\n",
        "\n",
        "\n"
      ],
      "metadata": {
        "id": "NiRopFhjSiyU"
      }
    },
    {
      "cell_type": "code",
      "source": [
        "# Aplicação da matriz de confusão\n",
        "_ = plot_confusion_matrix(rfc, x_test, y_test, cmap='Blues', normalize='true')"
      ],
      "metadata": {
        "id": "0cXPvueeUvwA",
        "colab": {
          "base_uri": "https://localhost:8080/",
          "height": 0
        },
        "outputId": "b2f706bb-e9b8-424b-fb6c-f3650beacb99"
      },
      "execution_count": 23,
      "outputs": [
        {
          "output_type": "display_data",
          "data": {
            "text/plain": [
              "<Figure size 432x288 with 2 Axes>"
            ],
            "image/png": "[encoded data removed]"
          },
          "metadata": {
            "needs_background": "light"
          }
        }
      ]
    },
    {
      "cell_type": "code",
      "source": [
        "# Aplicação de todas as métricas\n",
        "print(classification_report(y_test, y_predrf))"
      ],
      "metadata": {
        "colab": {
          "base_uri": "https://localhost:8080/"
        },
        "id": "glZ6iOAKa4Zo",
        "outputId": "9308400a-e8a2-489f-a6fd-7f876326f418"
      },
      "execution_count": 24,
      "outputs": [
        {
          "output_type": "stream",
          "name": "stdout",
          "text": [
            "              precision    recall  f1-score   support\n",
            "\n",
            "         0.0       0.79      0.92      0.85      1806\n",
            "         1.0       0.74      0.48      0.59       840\n",
            "\n",
            "    accuracy                           0.78      2646\n",
            "   macro avg       0.77      0.70      0.72      2646\n",
            "weighted avg       0.78      0.78      0.77      2646\n",
            "\n"
          ]
        }
      ]
    },
    {
      "cell_type": "markdown",
      "source": [
        "# Exportando - Modelo"
      ],
      "metadata": {
        "id": "jLR1nr8almKy"
      }
    },
    {
      "cell_type": "code",
      "source": [
        "# Import dump para usar como exportar\n",
        "from joblib import dump\n",
        "\n",
        "\n",
        "# Dump exporta o modelo para a pasta 'export_model' que está no drive\n",
        "dump(rfc,'/content/drive/MyDrive/modelo_oficial')"
      ],
      "metadata": {
        "id": "_V95AT-llqRr",
        "colab": {
          "base_uri": "https://localhost:8080/"
        },
        "outputId": "6d34c0d6-bdc5-44d7-8ef6-eb80158476a1"
      },
      "execution_count": 25,
      "outputs": [
        {
          "output_type": "execute_result",
          "data": {
            "text/plain": [
              "['/content/drive/MyDrive/modelo_oficial']"
            ]
          },
          "metadata": {},
          "execution_count": 25
        }
      ]
    }
  ]
}