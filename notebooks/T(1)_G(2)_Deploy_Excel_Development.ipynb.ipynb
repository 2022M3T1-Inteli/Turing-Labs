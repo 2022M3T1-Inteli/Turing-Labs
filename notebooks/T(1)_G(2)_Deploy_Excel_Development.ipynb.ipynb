{
  "nbformat": 4,
  "nbformat_minor": 0,
  "metadata": {
    "colab": {
      "provenance": []
    },
    "kernelspec": {
      "name": "python3",
      "display_name": "Python 3"
    },
    "language_info": {
      "name": "python"
    }
  },
  "cells": [
    {
      "cell_type": "code",
      "source": [
        "from google.colab import drive\n",
        "drive.mount('/content/drive')"
      ],
      "metadata": {
        "colab": {
          "base_uri": "https://localhost:8080/"
        },
        "id": "CB4SZUJ6cv2v",
        "outputId": "f67d45c2-b427-412d-cc06-1ff9b989cd4b"
      },
      "execution_count": 3,
      "outputs": [
        {
          "output_type": "stream",
          "name": "stdout",
          "text": [
            "Drive already mounted at /content/drive; to attempt to forcibly remount, call drive.mount(\"/content/drive\", force_remount=True).\n"
          ]
        }
      ]
    },
    {
      "cell_type": "markdown",
      "source": [
        "# Carregando Modelo"
      ],
      "metadata": {
        "id": "MivkW4qsdi7K"
      }
    },
    {
      "cell_type": "code",
      "execution_count": 4,
      "metadata": {
        "id": "n799gtFJbcQ1"
      },
      "outputs": [],
      "source": [
        "# Baixando bibliotecas\n",
        "from joblib import load\n",
        "import pandas as pd\n",
        "\n",
        "# Carregando o modelo\n",
        "rfc = load('/content/drive/MyDrive/modelo_oficial')"
      ]
    },
    {
      "cell_type": "markdown",
      "source": [
        "# Carregando conjunto de dados e fazendo o tratamento"
      ],
      "metadata": {
        "id": "c42HXu_TdrPn"
      }
    },
    {
      "cell_type": "code",
      "source": [
        "# Carregando \n",
        "df = pd.read_csv('/content/drive/Shareddrives/Turing_Labs/csvs/data.csv')"
      ],
      "metadata": {
        "id": "yLCRNWFvcC2q"
      },
      "execution_count": 5,
      "outputs": []
    },
    {
      "cell_type": "code",
      "source": [
        "#Definindo o dataset com clientes e com o feature engineering selecionado\n",
        "df_new_all = df.fillna(0)"
      ],
      "metadata": {
        "id": "Gwc1mHsbcpPs"
      },
      "execution_count": 6,
      "outputs": []
    },
    {
      "cell_type": "code",
      "source": [
        "#Seleção das Features\n",
        "df_new_focus = df_new_all[['vlr_credito',\t'vlr_saldo',\t'num_atend_atrs',\t'num_produtos',\t'num_atend',\t'qtd_oper',\t'qtd_reclm',\t'ind_atrito',\t'ind_engaj']]"
      ],
      "metadata": {
        "id": "R9MwyPTsdGTs"
      },
      "execution_count": 7,
      "outputs": []
    },
    {
      "cell_type": "code",
      "source": [
        "# Dropa a coluna de target\n",
        "x = df_new_focus.drop(['ind_atrito'], axis = 1)"
      ],
      "metadata": {
        "id": "EjpFJwLsdbJ6"
      },
      "execution_count": 8,
      "outputs": []
    },
    {
      "cell_type": "markdown",
      "source": [
        "# Deploy em Excel com a predição"
      ],
      "metadata": {
        "id": "U7_FUY90d4nm"
      }
    },
    {
      "cell_type": "code",
      "source": [
        "# Colocando as predições junto a tabela\n",
        "x['predicao'] = rfc.predict(x)"
      ],
      "metadata": {
        "id": "I4RqIXTUb63c"
      },
      "execution_count": 9,
      "outputs": []
    },
    {
      "cell_type": "code",
      "source": [
        "# Acesso ao excel \n",
        "x.to_excel('/content/drive/MyDrive/modelo_excel.xls')"
      ],
      "metadata": {
        "colab": {
          "base_uri": "https://localhost:8080/",
          "height": 346
        },
        "id": "BEkmzUukcA_Q",
        "outputId": "13ab3ff3-238a-49e6-a9c3-7260b01da54b"
      },
      "execution_count": 10,
      "outputs": [
        {
          "output_type": "error",
          "ename": "ValueError",
          "evalue": "ignored",
          "traceback": [
            "\u001b[0;31m---------------------------------------------------------------------------\u001b[0m",
            "\u001b[0;31mValueError\u001b[0m                                Traceback (most recent call last)",
            "\u001b[0;32m<ipython-input-10-4149eeacd534>\u001b[0m in \u001b[0;36m<module>\u001b[0;34m\u001b[0m\n\u001b[1;32m      1\u001b[0m \u001b[0;31m# Acesso ao excel\u001b[0m\u001b[0;34m\u001b[0m\u001b[0;34m\u001b[0m\u001b[0;34m\u001b[0m\u001b[0m\n\u001b[0;32m----> 2\u001b[0;31m \u001b[0mx\u001b[0m\u001b[0;34m.\u001b[0m\u001b[0mto_excel\u001b[0m\u001b[0;34m(\u001b[0m\u001b[0;34m'/content/drive/MyDrive/modelo_excel.xls'\u001b[0m\u001b[0;34m)\u001b[0m\u001b[0;34m\u001b[0m\u001b[0;34m\u001b[0m\u001b[0m\n\u001b[0m",
            "\u001b[0;32m/usr/local/lib/python3.7/dist-packages/pandas/core/generic.py\u001b[0m in \u001b[0;36mto_excel\u001b[0;34m(self, excel_writer, sheet_name, na_rep, float_format, columns, header, index, index_label, startrow, startcol, engine, merge_cells, encoding, inf_rep, verbose, freeze_panes, storage_options)\u001b[0m\n\u001b[1;32m   2289\u001b[0m             \u001b[0mfreeze_panes\u001b[0m\u001b[0;34m=\u001b[0m\u001b[0mfreeze_panes\u001b[0m\u001b[0;34m,\u001b[0m\u001b[0;34m\u001b[0m\u001b[0;34m\u001b[0m\u001b[0m\n\u001b[1;32m   2290\u001b[0m             \u001b[0mengine\u001b[0m\u001b[0;34m=\u001b[0m\u001b[0mengine\u001b[0m\u001b[0;34m,\u001b[0m\u001b[0;34m\u001b[0m\u001b[0;34m\u001b[0m\u001b[0m\n\u001b[0;32m-> 2291\u001b[0;31m             \u001b[0mstorage_options\u001b[0m\u001b[0;34m=\u001b[0m\u001b[0mstorage_options\u001b[0m\u001b[0;34m,\u001b[0m\u001b[0;34m\u001b[0m\u001b[0;34m\u001b[0m\u001b[0m\n\u001b[0m\u001b[1;32m   2292\u001b[0m         )\n\u001b[1;32m   2293\u001b[0m \u001b[0;34m\u001b[0m\u001b[0m\n",
            "\u001b[0;32m/usr/local/lib/python3.7/dist-packages/pandas/io/formats/excel.py\u001b[0m in \u001b[0;36mwrite\u001b[0;34m(self, writer, sheet_name, startrow, startcol, freeze_panes, engine, storage_options)\u001b[0m\n\u001b[1;32m    822\u001b[0m         \u001b[0;32mif\u001b[0m \u001b[0mnum_rows\u001b[0m \u001b[0;34m>\u001b[0m \u001b[0mself\u001b[0m\u001b[0;34m.\u001b[0m\u001b[0mmax_rows\u001b[0m \u001b[0;32mor\u001b[0m \u001b[0mnum_cols\u001b[0m \u001b[0;34m>\u001b[0m \u001b[0mself\u001b[0m\u001b[0;34m.\u001b[0m\u001b[0mmax_cols\u001b[0m\u001b[0;34m:\u001b[0m\u001b[0;34m\u001b[0m\u001b[0;34m\u001b[0m\u001b[0m\n\u001b[1;32m    823\u001b[0m             raise ValueError(\n\u001b[0;32m--> 824\u001b[0;31m                 \u001b[0;34mf\"This sheet is too large! Your sheet size is: {num_rows}, {num_cols} \"\u001b[0m\u001b[0;34m\u001b[0m\u001b[0;34m\u001b[0m\u001b[0m\n\u001b[0m\u001b[1;32m    825\u001b[0m                 \u001b[0;34mf\"Max sheet size is: {self.max_rows}, {self.max_cols}\"\u001b[0m\u001b[0;34m\u001b[0m\u001b[0;34m\u001b[0m\u001b[0m\n\u001b[1;32m    826\u001b[0m             )\n",
            "\u001b[0;31mValueError\u001b[0m: This sheet is too large! Your sheet size is: 11886345, 9 Max sheet size is: 1048576, 16384"
          ]
        }
      ]
    }
  ]
}