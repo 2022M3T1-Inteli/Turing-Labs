{
  "nbformat": 4,
  "nbformat_minor": 0,
  "metadata": {
    "colab": {
      "provenance": []
    },
    "kernelspec": {
      "name": "python3",
      "display_name": "Python 3"
    },
    "language_info": {
      "name": "python"
    }
  },
  "cells": [
    {
      "cell_type": "code",
      "execution_count": 1,
      "metadata": {
        "colab": {
          "base_uri": "https://localhost:8080/"
        },
        "id": "KplEJcck1-zZ",
        "outputId": "ec8096b9-190f-49ac-bf14-f8635dee9348"
      },
      "outputs": [
        {
          "output_type": "stream",
          "name": "stdout",
          "text": [
            "Mounted at /content/drive\n"
          ]
        }
      ],
      "source": [
        "from google.colab import drive\n",
        "drive.mount('/content/drive')"
      ]
    },
    {
      "cell_type": "code",
      "source": [
        "# Baixando bibliotecas\n",
        "from joblib import load\n",
        "import pandas as pd\n",
        "\n",
        "# Carregando o modelo\n",
        "rfc = load('/content/drive/MyDrive/modelo_oficial')"
      ],
      "metadata": {
        "id": "CQVwdCRZ2F_R"
      },
      "execution_count": 2,
      "outputs": []
    },
    {
      "cell_type": "code",
      "source": [
        "#@title Formulário de Informações do cliente\n",
        "\n",
        "credito = 3500 #@param {type:\"number\"}\n",
        "saldo = 150 #@param {type:\"number\"}\n",
        "quantidade_de_atendimento_atrasado = 0 #@param {type:\"number\"}\n",
        "quantidade_de_produto = 1 #@param {type:\"number\"}\n",
        "quantidade_de_atendimento = 0 #@param {type:\"number\"}\n",
        "quantidade_de_operações = 13 #@param {type:\"number\"}\n",
        "quantidade_de_reclamações = 1 #@param {type:\"number\"}\n",
        "indice_de_engajado = 0 #@param {type:\"number\"}\n",
        "\n",
        "resposta = rfc.predict(pd.DataFrame({'vlr_credito':[credito],\n",
        "                            'vlr_saldo':[saldo],\n",
        "                            'num_atend_atrs':[quantidade_de_atendimento_atrasado],\n",
        "                            'num_produtos':[quantidade_de_produto],\n",
        "                            'num_atend':[quantidade_de_atendimento],\n",
        "                            'qtd_oper':[quantidade_de_operações],\n",
        "                            'qtd_reclm':[quantidade_de_reclamações],\n",
        "                            'ind_engaj':[indice_de_engajado]}).head(1))\n",
        "\n",
        "if resposta.tolist()[0] == 0:\n",
        "  print('O cliente não tem atrito')\n",
        "else:\n",
        "  print('O cliente tem atrito')"
      ],
      "metadata": {
        "colab": {
          "base_uri": "https://localhost:8080/"
        },
        "cellView": "form",
        "id": "tDyRfSj22JuG",
        "outputId": "96c95810-6b53-4c87-9df8-103592fba345"
      },
      "execution_count": 4,
      "outputs": [
        {
          "output_type": "stream",
          "name": "stdout",
          "text": [
            "O cliente tem atrito\n"
          ]
        }
      ]
    }
  ]
}